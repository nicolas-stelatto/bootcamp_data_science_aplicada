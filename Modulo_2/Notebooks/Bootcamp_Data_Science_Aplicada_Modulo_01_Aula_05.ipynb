{
  "nbformat": 4,
  "nbformat_minor": 0,
  "metadata": {
    "colab": {
      "name": "Bootcamp Data Science Aplicada - Modulo 01 - Aula 05.ipynb",
      "provenance": [],
      "toc_visible": true,
      "mount_file_id": "10PhoWtILrzZ3yezKmU4E09KK-AMbVcCq",
      "authorship_tag": "ABX9TyPE2FKyg2G68yHsey9i6Htq",
      "include_colab_link": true
    },
    "kernelspec": {
      "name": "python3",
      "display_name": "Python 3"
    },
    "language_info": {
      "name": "python"
    }
  },
  "cells": [
    {
      "cell_type": "markdown",
      "metadata": {
        "id": "view-in-github",
        "colab_type": "text"
      },
      "source": [
        "<a href=\"https://colab.research.google.com/github/nicolas-stelatto/bootcamp_data_science_aplicada/blob/main/Modulo_2/Notebooks/Bootcamp_Data_Science_Aplicada_Modulo_01_Aula_05.ipynb\" target=\"_parent\"><img src=\"https://colab.research.google.com/assets/colab-badge.svg\" alt=\"Open In Colab\"/></a>"
      ]
    },
    {
      "cell_type": "markdown",
      "metadata": {
        "id": "yhe3lZlUnl4X"
      },
      "source": [
        "# Módulo 01 - Python e pandas para análise de dados reais"
      ]
    },
    {
      "cell_type": "markdown",
      "metadata": {
        "id": "yG8sqlGqs8pJ"
      },
      "source": [
        "## Aula 02.Primeiras visualizações de gráficos"
      ]
    },
    {
      "cell_type": "markdown",
      "metadata": {
        "id": "KT3DY1E2tMW0"
      },
      "source": [
        "AS informações de onde conseguimos a base de dados para o trabalho estão no arquivo txt dentro do GitHub e do Notion [nesse link](https://www.notion.so/02-Primeiras-visualiza-es-de-dados-01-Entendendo-gr-ficos-612fd521bb814ec3a32be6ac102152dc)\n"
      ]
    },
    {
      "cell_type": "code",
      "metadata": {
        "id": "sn666nMjns7d"
      },
      "source": [
        "import pandas as pd\n",
        "import seaborn as sns\n",
        "import numpy as np"
      ],
      "execution_count": null,
      "outputs": []
    },
    {
      "cell_type": "code",
      "metadata": {
        "id": "hjDj0Kc6oKL_"
      },
      "source": [
        "#dados = pd.read_csv(\"/content/drive/MyDrive/Pessoal/Colab Notebooks/Bootcamp Data Science Aplicada - Alura/Dados/A184611189_28_143_208.csv\")"
      ],
      "execution_count": null,
      "outputs": []
    },
    {
      "cell_type": "markdown",
      "metadata": {
        "id": "9xGfuAaWoojz"
      },
      "source": [
        "Se tentarmos abrir o arquivo assim, aparecerá um erro utf-8, que é muito comum quando vamos abrir arquivos do governo. Esse erro está associado à forma de abrir um arquivo.\n",
        "\n",
        "Uma analogia é que o á é lido em português de uma forma, mas em outras línguas é lido de outra forma. Para isso, nós precisamos definir uma regra para o Python ler o arquivo. Para isso, precisamos definir um parâmetro dentro da nossa função que é encoding = \"ISO-8859-1\""
      ]
    },
    {
      "cell_type": "code",
      "metadata": {
        "id": "riSUpiPGoWfu"
      },
      "source": [
        "#dados = pd.read_csv(\"/content/drive/MyDrive/Pessoal/Colab Notebooks/Bootcamp Data Science Aplicada - Alura/Dados/A184611189_28_143_208.csv\", encoding=\"ISO-8859-1\")"
      ],
      "execution_count": null,
      "outputs": []
    },
    {
      "cell_type": "markdown",
      "metadata": {
        "id": "ctRNSaulpWWN"
      },
      "source": [
        "Agora se formos rodar esse arquivo, ele resultará o erro \"Error Tokenising Data\". Nesse caso, precisamos informar que é necessário pular as três primeiras linhas (porque não são relevantes) e também informar que o separador é o \";\" e não p \",\""
      ]
    },
    {
      "cell_type": "code",
      "metadata": {
        "colab": {
          "base_uri": "https://localhost:8080/",
          "height": 330
        },
        "id": "Ef7XbUETpR1I",
        "outputId": "35031bb9-d91e-4e43-a33f-ca7742e93466"
      },
      "source": [
        "dados = pd.read_csv(\"/content/drive/MyDrive/Pessoal/Colab Notebooks/Bootcamp Data Science Aplicada - Alura/Módulo 1/Dados/Valor total por Ano_mês atendimento segundo Unidade da Federação.csv\", encoding=\"ISO-8859-1\", skiprows=3, sep=\";\", engine=\"python\")\n",
        "dados.head()"
      ],
      "execution_count": null,
      "outputs": [
        {
          "output_type": "execute_result",
          "data": {
            "text/html": [
              "<div>\n",
              "<style scoped>\n",
              "    .dataframe tbody tr th:only-of-type {\n",
              "        vertical-align: middle;\n",
              "    }\n",
              "\n",
              "    .dataframe tbody tr th {\n",
              "        vertical-align: top;\n",
              "    }\n",
              "\n",
              "    .dataframe thead th {\n",
              "        text-align: right;\n",
              "    }\n",
              "</style>\n",
              "<table border=\"1\" class=\"dataframe\">\n",
              "  <thead>\n",
              "    <tr style=\"text-align: right;\">\n",
              "      <th></th>\n",
              "      <th>Unidade da Federação</th>\n",
              "      <th>1992/Mar</th>\n",
              "      <th>1992/Abr</th>\n",
              "      <th>1993/Mai</th>\n",
              "      <th>1993/Dez</th>\n",
              "      <th>1994/Jan</th>\n",
              "      <th>1994/Fev</th>\n",
              "      <th>1994/Mai</th>\n",
              "      <th>1994/Ago</th>\n",
              "      <th>1994/Nov</th>\n",
              "      <th>1995/Jan</th>\n",
              "      <th>1995/Mar</th>\n",
              "      <th>1995/Jun</th>\n",
              "      <th>1995/Ago</th>\n",
              "      <th>1995/Dez</th>\n",
              "      <th>1996/Fev</th>\n",
              "      <th>1996/Mar</th>\n",
              "      <th>1996/Ago</th>\n",
              "      <th>1996/Dez</th>\n",
              "      <th>1997/Fev</th>\n",
              "      <th>1997/Nov</th>\n",
              "      <th>1998/Fev</th>\n",
              "      <th>1998/Mar</th>\n",
              "      <th>1998/Jul</th>\n",
              "      <th>1998/Ago</th>\n",
              "      <th>1998/Set</th>\n",
              "      <th>1998/Out</th>\n",
              "      <th>1998/Dez</th>\n",
              "      <th>1999/Fev</th>\n",
              "      <th>1999/Mar</th>\n",
              "      <th>1999/Mai</th>\n",
              "      <th>1999/Jul</th>\n",
              "      <th>1999/Ago</th>\n",
              "      <th>1999/Set</th>\n",
              "      <th>1999/Out</th>\n",
              "      <th>1999/Nov</th>\n",
              "      <th>1999/Dez</th>\n",
              "      <th>2000/Jan</th>\n",
              "      <th>2000/Fev</th>\n",
              "      <th>2000/Mar</th>\n",
              "      <th>...</th>\n",
              "      <th>2018/Jan</th>\n",
              "      <th>2018/Fev</th>\n",
              "      <th>2018/Mar</th>\n",
              "      <th>2018/Abr</th>\n",
              "      <th>2018/Mai</th>\n",
              "      <th>2018/Jun</th>\n",
              "      <th>2018/Jul</th>\n",
              "      <th>2018/Ago</th>\n",
              "      <th>2018/Set</th>\n",
              "      <th>2018/Out</th>\n",
              "      <th>2018/Nov</th>\n",
              "      <th>2018/Dez</th>\n",
              "      <th>2019/Jan</th>\n",
              "      <th>2019/Fev</th>\n",
              "      <th>2019/Mar</th>\n",
              "      <th>2019/Abr</th>\n",
              "      <th>2019/Mai</th>\n",
              "      <th>2019/Jun</th>\n",
              "      <th>2019/Jul</th>\n",
              "      <th>2019/Ago</th>\n",
              "      <th>2019/Set</th>\n",
              "      <th>2019/Out</th>\n",
              "      <th>2019/Nov</th>\n",
              "      <th>2019/Dez</th>\n",
              "      <th>2020/Jan</th>\n",
              "      <th>2020/Fev</th>\n",
              "      <th>2020/Mar</th>\n",
              "      <th>2020/Abr</th>\n",
              "      <th>2020/Mai</th>\n",
              "      <th>2020/Jun</th>\n",
              "      <th>2020/Jul</th>\n",
              "      <th>2020/Ago</th>\n",
              "      <th>2020/Set</th>\n",
              "      <th>2020/Out</th>\n",
              "      <th>2020/Nov</th>\n",
              "      <th>2020/Dez</th>\n",
              "      <th>2021/Jan</th>\n",
              "      <th>2021/Fev</th>\n",
              "      <th>2021/Mar</th>\n",
              "      <th>Total</th>\n",
              "    </tr>\n",
              "  </thead>\n",
              "  <tbody>\n",
              "    <tr>\n",
              "      <th>0</th>\n",
              "      <td>11 Rondônia</td>\n",
              "      <td>-</td>\n",
              "      <td>-</td>\n",
              "      <td>-</td>\n",
              "      <td>-</td>\n",
              "      <td>-</td>\n",
              "      <td>-</td>\n",
              "      <td>-</td>\n",
              "      <td>-</td>\n",
              "      <td>-</td>\n",
              "      <td>-</td>\n",
              "      <td>-</td>\n",
              "      <td>-</td>\n",
              "      <td>-</td>\n",
              "      <td>-</td>\n",
              "      <td>-</td>\n",
              "      <td>-</td>\n",
              "      <td>-</td>\n",
              "      <td>-</td>\n",
              "      <td>-</td>\n",
              "      <td>-</td>\n",
              "      <td>-</td>\n",
              "      <td>-</td>\n",
              "      <td>-</td>\n",
              "      <td>-</td>\n",
              "      <td>-</td>\n",
              "      <td>-</td>\n",
              "      <td>-</td>\n",
              "      <td>-</td>\n",
              "      <td>-</td>\n",
              "      <td>-</td>\n",
              "      <td>-</td>\n",
              "      <td>-</td>\n",
              "      <td>-</td>\n",
              "      <td>-</td>\n",
              "      <td>-</td>\n",
              "      <td>-</td>\n",
              "      <td>-</td>\n",
              "      <td>-</td>\n",
              "      <td>-</td>\n",
              "      <td>...</td>\n",
              "      <td>8457455,71</td>\n",
              "      <td>7766983,20</td>\n",
              "      <td>8858845,57</td>\n",
              "      <td>8407076,44</td>\n",
              "      <td>9492938,92</td>\n",
              "      <td>8206195,92</td>\n",
              "      <td>9011612,58</td>\n",
              "      <td>9124967,84</td>\n",
              "      <td>8406732,72</td>\n",
              "      <td>8411360,02</td>\n",
              "      <td>8651081,66</td>\n",
              "      <td>8193425,99</td>\n",
              "      <td>8388269,45</td>\n",
              "      <td>8645315,78</td>\n",
              "      <td>9050329,13</td>\n",
              "      <td>9211262,51</td>\n",
              "      <td>9490545,02</td>\n",
              "      <td>8600886,20</td>\n",
              "      <td>8919190,86</td>\n",
              "      <td>8909111,89</td>\n",
              "      <td>8409386,09</td>\n",
              "      <td>8924348,41</td>\n",
              "      <td>8948605,66</td>\n",
              "      <td>8660753,05</td>\n",
              "      <td>8327665,97</td>\n",
              "      <td>8431334,62</td>\n",
              "      <td>7251287,20</td>\n",
              "      <td>7490440,60</td>\n",
              "      <td>8957706,45</td>\n",
              "      <td>10993332,84</td>\n",
              "      <td>10479989,36</td>\n",
              "      <td>11433467,56</td>\n",
              "      <td>8876900,39</td>\n",
              "      <td>8167253,19</td>\n",
              "      <td>8759013,71</td>\n",
              "      <td>9003402,23</td>\n",
              "      <td>8414690,60</td>\n",
              "      <td>6039419,59</td>\n",
              "      <td>4732441,04</td>\n",
              "      <td>996411254,68</td>\n",
              "    </tr>\n",
              "    <tr>\n",
              "      <th>1</th>\n",
              "      <td>12 Acre</td>\n",
              "      <td>-</td>\n",
              "      <td>-</td>\n",
              "      <td>-</td>\n",
              "      <td>-</td>\n",
              "      <td>-</td>\n",
              "      <td>-</td>\n",
              "      <td>-</td>\n",
              "      <td>-</td>\n",
              "      <td>-</td>\n",
              "      <td>-</td>\n",
              "      <td>-</td>\n",
              "      <td>-</td>\n",
              "      <td>-</td>\n",
              "      <td>-</td>\n",
              "      <td>-</td>\n",
              "      <td>-</td>\n",
              "      <td>-</td>\n",
              "      <td>-</td>\n",
              "      <td>-</td>\n",
              "      <td>-</td>\n",
              "      <td>-</td>\n",
              "      <td>-</td>\n",
              "      <td>-</td>\n",
              "      <td>-</td>\n",
              "      <td>-</td>\n",
              "      <td>-</td>\n",
              "      <td>-</td>\n",
              "      <td>-</td>\n",
              "      <td>-</td>\n",
              "      <td>-</td>\n",
              "      <td>-</td>\n",
              "      <td>-</td>\n",
              "      <td>-</td>\n",
              "      <td>-</td>\n",
              "      <td>-</td>\n",
              "      <td>-</td>\n",
              "      <td>-</td>\n",
              "      <td>-</td>\n",
              "      <td>-</td>\n",
              "      <td>...</td>\n",
              "      <td>2968168,75</td>\n",
              "      <td>2769797,39</td>\n",
              "      <td>3057631,96</td>\n",
              "      <td>2874965,31</td>\n",
              "      <td>3175575,17</td>\n",
              "      <td>3060903,21</td>\n",
              "      <td>3253011,61</td>\n",
              "      <td>3040645,05</td>\n",
              "      <td>2926179,27</td>\n",
              "      <td>3126120,64</td>\n",
              "      <td>2473454,85</td>\n",
              "      <td>2277493,49</td>\n",
              "      <td>2594347,32</td>\n",
              "      <td>2234388,36</td>\n",
              "      <td>2473008,49</td>\n",
              "      <td>2979764,77</td>\n",
              "      <td>3070533,95</td>\n",
              "      <td>3249052,69</td>\n",
              "      <td>3567538,64</td>\n",
              "      <td>2981072,98</td>\n",
              "      <td>2998860,31</td>\n",
              "      <td>3293378,97</td>\n",
              "      <td>3174249,43</td>\n",
              "      <td>2959569,09</td>\n",
              "      <td>3276790,55</td>\n",
              "      <td>2985763,71</td>\n",
              "      <td>2939675,20</td>\n",
              "      <td>2672857,33</td>\n",
              "      <td>2940827,86</td>\n",
              "      <td>3914823,86</td>\n",
              "      <td>4053085,41</td>\n",
              "      <td>3658265,59</td>\n",
              "      <td>3470409,45</td>\n",
              "      <td>3267918,69</td>\n",
              "      <td>3393958,27</td>\n",
              "      <td>3711660,71</td>\n",
              "      <td>3005561,16</td>\n",
              "      <td>2272733,90</td>\n",
              "      <td>1137341,65</td>\n",
              "      <td>450048530,47</td>\n",
              "    </tr>\n",
              "    <tr>\n",
              "      <th>2</th>\n",
              "      <td>13 Amazonas</td>\n",
              "      <td>-</td>\n",
              "      <td>-</td>\n",
              "      <td>-</td>\n",
              "      <td>-</td>\n",
              "      <td>-</td>\n",
              "      <td>-</td>\n",
              "      <td>-</td>\n",
              "      <td>-</td>\n",
              "      <td>-</td>\n",
              "      <td>-</td>\n",
              "      <td>-</td>\n",
              "      <td>-</td>\n",
              "      <td>-</td>\n",
              "      <td>-</td>\n",
              "      <td>-</td>\n",
              "      <td>-</td>\n",
              "      <td>-</td>\n",
              "      <td>-</td>\n",
              "      <td>-</td>\n",
              "      <td>-</td>\n",
              "      <td>-</td>\n",
              "      <td>-</td>\n",
              "      <td>-</td>\n",
              "      <td>-</td>\n",
              "      <td>-</td>\n",
              "      <td>-</td>\n",
              "      <td>-</td>\n",
              "      <td>-</td>\n",
              "      <td>-</td>\n",
              "      <td>-</td>\n",
              "      <td>-</td>\n",
              "      <td>-</td>\n",
              "      <td>-</td>\n",
              "      <td>-</td>\n",
              "      <td>-</td>\n",
              "      <td>-</td>\n",
              "      <td>-</td>\n",
              "      <td>-</td>\n",
              "      <td>-</td>\n",
              "      <td>...</td>\n",
              "      <td>14549450,86</td>\n",
              "      <td>12753555,36</td>\n",
              "      <td>14749409,47</td>\n",
              "      <td>14577930,81</td>\n",
              "      <td>15381061,96</td>\n",
              "      <td>14653650,77</td>\n",
              "      <td>15544595,79</td>\n",
              "      <td>16374961,41</td>\n",
              "      <td>15343340,93</td>\n",
              "      <td>16249963,61</td>\n",
              "      <td>14255408,82</td>\n",
              "      <td>14274053,94</td>\n",
              "      <td>15358914,00</td>\n",
              "      <td>14100074,56</td>\n",
              "      <td>16103971,89</td>\n",
              "      <td>16154491,82</td>\n",
              "      <td>16529976,06</td>\n",
              "      <td>15509984,83</td>\n",
              "      <td>16642220,71</td>\n",
              "      <td>16493719,52</td>\n",
              "      <td>15351607,47</td>\n",
              "      <td>16339427,95</td>\n",
              "      <td>14821977,50</td>\n",
              "      <td>14965815,90</td>\n",
              "      <td>15982353,42</td>\n",
              "      <td>15166470,82</td>\n",
              "      <td>14815958,58</td>\n",
              "      <td>16379386,07</td>\n",
              "      <td>19625325,21</td>\n",
              "      <td>18433057,47</td>\n",
              "      <td>19303743,16</td>\n",
              "      <td>18687233,58</td>\n",
              "      <td>18628627,49</td>\n",
              "      <td>18728251,20</td>\n",
              "      <td>20451573,77</td>\n",
              "      <td>21546059,48</td>\n",
              "      <td>24439059,57</td>\n",
              "      <td>13679358,06</td>\n",
              "      <td>6799060,80</td>\n",
              "      <td>1917247936,05</td>\n",
              "    </tr>\n",
              "    <tr>\n",
              "      <th>3</th>\n",
              "      <td>14 Roraima</td>\n",
              "      <td>-</td>\n",
              "      <td>-</td>\n",
              "      <td>-</td>\n",
              "      <td>-</td>\n",
              "      <td>-</td>\n",
              "      <td>-</td>\n",
              "      <td>-</td>\n",
              "      <td>-</td>\n",
              "      <td>-</td>\n",
              "      <td>-</td>\n",
              "      <td>-</td>\n",
              "      <td>-</td>\n",
              "      <td>-</td>\n",
              "      <td>-</td>\n",
              "      <td>-</td>\n",
              "      <td>-</td>\n",
              "      <td>-</td>\n",
              "      <td>-</td>\n",
              "      <td>-</td>\n",
              "      <td>-</td>\n",
              "      <td>-</td>\n",
              "      <td>-</td>\n",
              "      <td>-</td>\n",
              "      <td>-</td>\n",
              "      <td>-</td>\n",
              "      <td>-</td>\n",
              "      <td>-</td>\n",
              "      <td>-</td>\n",
              "      <td>-</td>\n",
              "      <td>-</td>\n",
              "      <td>-</td>\n",
              "      <td>-</td>\n",
              "      <td>-</td>\n",
              "      <td>-</td>\n",
              "      <td>-</td>\n",
              "      <td>-</td>\n",
              "      <td>-</td>\n",
              "      <td>-</td>\n",
              "      <td>-</td>\n",
              "      <td>...</td>\n",
              "      <td>2740952,07</td>\n",
              "      <td>2478349,44</td>\n",
              "      <td>2674958,94</td>\n",
              "      <td>2721261,19</td>\n",
              "      <td>2844811,66</td>\n",
              "      <td>2967161,35</td>\n",
              "      <td>2841587,97</td>\n",
              "      <td>3328230,63</td>\n",
              "      <td>2878691,04</td>\n",
              "      <td>2964324,32</td>\n",
              "      <td>2524712,40</td>\n",
              "      <td>2462451,64</td>\n",
              "      <td>2662240,18</td>\n",
              "      <td>2499996,16</td>\n",
              "      <td>2846135,56</td>\n",
              "      <td>2789823,29</td>\n",
              "      <td>2839389,53</td>\n",
              "      <td>2647540,20</td>\n",
              "      <td>2865777,71</td>\n",
              "      <td>3181321,82</td>\n",
              "      <td>3070436,96</td>\n",
              "      <td>3162342,44</td>\n",
              "      <td>3121104,71</td>\n",
              "      <td>2889969,87</td>\n",
              "      <td>3084561,08</td>\n",
              "      <td>2967159,04</td>\n",
              "      <td>2813954,05</td>\n",
              "      <td>2306119,95</td>\n",
              "      <td>2921522,16</td>\n",
              "      <td>3300012,98</td>\n",
              "      <td>3192075,41</td>\n",
              "      <td>3262354,34</td>\n",
              "      <td>2978629,22</td>\n",
              "      <td>3313296,78</td>\n",
              "      <td>3527263,23</td>\n",
              "      <td>3125021,90</td>\n",
              "      <td>3209323,68</td>\n",
              "      <td>3044798,77</td>\n",
              "      <td>2381844,31</td>\n",
              "      <td>328876965,09</td>\n",
              "    </tr>\n",
              "    <tr>\n",
              "      <th>4</th>\n",
              "      <td>15 Pará</td>\n",
              "      <td>-</td>\n",
              "      <td>-</td>\n",
              "      <td>-</td>\n",
              "      <td>-</td>\n",
              "      <td>-</td>\n",
              "      <td>-</td>\n",
              "      <td>-</td>\n",
              "      <td>-</td>\n",
              "      <td>-</td>\n",
              "      <td>-</td>\n",
              "      <td>-</td>\n",
              "      <td>-</td>\n",
              "      <td>-</td>\n",
              "      <td>-</td>\n",
              "      <td>-</td>\n",
              "      <td>-</td>\n",
              "      <td>-</td>\n",
              "      <td>-</td>\n",
              "      <td>-</td>\n",
              "      <td>-</td>\n",
              "      <td>-</td>\n",
              "      <td>-</td>\n",
              "      <td>-</td>\n",
              "      <td>-</td>\n",
              "      <td>-</td>\n",
              "      <td>-</td>\n",
              "      <td>-</td>\n",
              "      <td>-</td>\n",
              "      <td>-</td>\n",
              "      <td>-</td>\n",
              "      <td>-</td>\n",
              "      <td>-</td>\n",
              "      <td>-</td>\n",
              "      <td>-</td>\n",
              "      <td>-</td>\n",
              "      <td>-</td>\n",
              "      <td>-</td>\n",
              "      <td>-</td>\n",
              "      <td>-</td>\n",
              "      <td>...</td>\n",
              "      <td>33615836,09</td>\n",
              "      <td>30623491,62</td>\n",
              "      <td>34121931,00</td>\n",
              "      <td>35039954,20</td>\n",
              "      <td>35424611,06</td>\n",
              "      <td>34160283,18</td>\n",
              "      <td>34484949,49</td>\n",
              "      <td>35618364,04</td>\n",
              "      <td>34380916,90</td>\n",
              "      <td>38441090,50</td>\n",
              "      <td>33583538,08</td>\n",
              "      <td>32789354,87</td>\n",
              "      <td>34513534,80</td>\n",
              "      <td>31885919,67</td>\n",
              "      <td>33236155,79</td>\n",
              "      <td>31008924,95</td>\n",
              "      <td>31064106,50</td>\n",
              "      <td>28543179,30</td>\n",
              "      <td>36713929,36</td>\n",
              "      <td>36462011,47</td>\n",
              "      <td>36792954,02</td>\n",
              "      <td>36984314,60</td>\n",
              "      <td>35579251,49</td>\n",
              "      <td>35247659,30</td>\n",
              "      <td>37046350,76</td>\n",
              "      <td>34683341,17</td>\n",
              "      <td>34908420,50</td>\n",
              "      <td>29184688,30</td>\n",
              "      <td>43327731,71</td>\n",
              "      <td>40994545,21</td>\n",
              "      <td>40496349,97</td>\n",
              "      <td>38793393,54</td>\n",
              "      <td>36965951,76</td>\n",
              "      <td>38406616,21</td>\n",
              "      <td>37043032,10</td>\n",
              "      <td>36914437,92</td>\n",
              "      <td>33887773,65</td>\n",
              "      <td>23343222,94</td>\n",
              "      <td>13069564,31</td>\n",
              "      <td>4705309002,29</td>\n",
              "    </tr>\n",
              "  </tbody>\n",
              "</table>\n",
              "<p>5 rows × 287 columns</p>\n",
              "</div>"
            ],
            "text/plain": [
              "  Unidade da Federação 1992/Mar  ...     2021/Mar          Total\n",
              "0          11 Rondônia        -  ...   4732441,04   996411254,68\n",
              "1              12 Acre        -  ...   1137341,65   450048530,47\n",
              "2          13 Amazonas        -  ...   6799060,80  1917247936,05\n",
              "3           14 Roraima        -  ...   2381844,31   328876965,09\n",
              "4              15 Pará        -  ...  13069564,31  4705309002,29\n",
              "\n",
              "[5 rows x 287 columns]"
            ]
          },
          "metadata": {
            "tags": []
          },
          "execution_count": 4
        }
      ]
    },
    {
      "cell_type": "markdown",
      "metadata": {
        "id": "7ezvOud6qDGU"
      },
      "source": [
        "No arquivo, ainda tem algumas linhas no final que não são relevantes para a nossa análise. O que precisamos fazer é excluir as doze últimas linhas"
      ]
    },
    {
      "cell_type": "code",
      "metadata": {
        "colab": {
          "base_uri": "https://localhost:8080/",
          "height": 330
        },
        "id": "oD0PcG4dqAZk",
        "outputId": "d9311dde-cf1b-4997-9bff-792876222171"
      },
      "source": [
        "dados = pd.read_csv(\"/content/drive/MyDrive/Pessoal/Colab Notebooks/Bootcamp Data Science Aplicada - Alura/Módulo 1/Dados/Valor total por Ano_mês atendimento segundo Unidade da Federação.csv\", encoding=\"ISO-8859-1\", skiprows=3, sep=\";\", skipfooter=12, engine=\"python\")\n",
        "dados.head()"
      ],
      "execution_count": null,
      "outputs": [
        {
          "output_type": "execute_result",
          "data": {
            "text/html": [
              "<div>\n",
              "<style scoped>\n",
              "    .dataframe tbody tr th:only-of-type {\n",
              "        vertical-align: middle;\n",
              "    }\n",
              "\n",
              "    .dataframe tbody tr th {\n",
              "        vertical-align: top;\n",
              "    }\n",
              "\n",
              "    .dataframe thead th {\n",
              "        text-align: right;\n",
              "    }\n",
              "</style>\n",
              "<table border=\"1\" class=\"dataframe\">\n",
              "  <thead>\n",
              "    <tr style=\"text-align: right;\">\n",
              "      <th></th>\n",
              "      <th>Unidade da Federação</th>\n",
              "      <th>1992/Mar</th>\n",
              "      <th>1992/Abr</th>\n",
              "      <th>1993/Mai</th>\n",
              "      <th>1993/Dez</th>\n",
              "      <th>1994/Jan</th>\n",
              "      <th>1994/Fev</th>\n",
              "      <th>1994/Mai</th>\n",
              "      <th>1994/Ago</th>\n",
              "      <th>1994/Nov</th>\n",
              "      <th>1995/Jan</th>\n",
              "      <th>1995/Mar</th>\n",
              "      <th>1995/Jun</th>\n",
              "      <th>1995/Ago</th>\n",
              "      <th>1995/Dez</th>\n",
              "      <th>1996/Fev</th>\n",
              "      <th>1996/Mar</th>\n",
              "      <th>1996/Ago</th>\n",
              "      <th>1996/Dez</th>\n",
              "      <th>1997/Fev</th>\n",
              "      <th>1997/Nov</th>\n",
              "      <th>1998/Fev</th>\n",
              "      <th>1998/Mar</th>\n",
              "      <th>1998/Jul</th>\n",
              "      <th>1998/Ago</th>\n",
              "      <th>1998/Set</th>\n",
              "      <th>1998/Out</th>\n",
              "      <th>1998/Dez</th>\n",
              "      <th>1999/Fev</th>\n",
              "      <th>1999/Mar</th>\n",
              "      <th>1999/Mai</th>\n",
              "      <th>1999/Jul</th>\n",
              "      <th>1999/Ago</th>\n",
              "      <th>1999/Set</th>\n",
              "      <th>1999/Out</th>\n",
              "      <th>1999/Nov</th>\n",
              "      <th>1999/Dez</th>\n",
              "      <th>2000/Jan</th>\n",
              "      <th>2000/Fev</th>\n",
              "      <th>2000/Mar</th>\n",
              "      <th>...</th>\n",
              "      <th>2018/Jan</th>\n",
              "      <th>2018/Fev</th>\n",
              "      <th>2018/Mar</th>\n",
              "      <th>2018/Abr</th>\n",
              "      <th>2018/Mai</th>\n",
              "      <th>2018/Jun</th>\n",
              "      <th>2018/Jul</th>\n",
              "      <th>2018/Ago</th>\n",
              "      <th>2018/Set</th>\n",
              "      <th>2018/Out</th>\n",
              "      <th>2018/Nov</th>\n",
              "      <th>2018/Dez</th>\n",
              "      <th>2019/Jan</th>\n",
              "      <th>2019/Fev</th>\n",
              "      <th>2019/Mar</th>\n",
              "      <th>2019/Abr</th>\n",
              "      <th>2019/Mai</th>\n",
              "      <th>2019/Jun</th>\n",
              "      <th>2019/Jul</th>\n",
              "      <th>2019/Ago</th>\n",
              "      <th>2019/Set</th>\n",
              "      <th>2019/Out</th>\n",
              "      <th>2019/Nov</th>\n",
              "      <th>2019/Dez</th>\n",
              "      <th>2020/Jan</th>\n",
              "      <th>2020/Fev</th>\n",
              "      <th>2020/Mar</th>\n",
              "      <th>2020/Abr</th>\n",
              "      <th>2020/Mai</th>\n",
              "      <th>2020/Jun</th>\n",
              "      <th>2020/Jul</th>\n",
              "      <th>2020/Ago</th>\n",
              "      <th>2020/Set</th>\n",
              "      <th>2020/Out</th>\n",
              "      <th>2020/Nov</th>\n",
              "      <th>2020/Dez</th>\n",
              "      <th>2021/Jan</th>\n",
              "      <th>2021/Fev</th>\n",
              "      <th>2021/Mar</th>\n",
              "      <th>Total</th>\n",
              "    </tr>\n",
              "  </thead>\n",
              "  <tbody>\n",
              "    <tr>\n",
              "      <th>0</th>\n",
              "      <td>11 Rondônia</td>\n",
              "      <td>-</td>\n",
              "      <td>-</td>\n",
              "      <td>-</td>\n",
              "      <td>-</td>\n",
              "      <td>-</td>\n",
              "      <td>-</td>\n",
              "      <td>-</td>\n",
              "      <td>-</td>\n",
              "      <td>-</td>\n",
              "      <td>-</td>\n",
              "      <td>-</td>\n",
              "      <td>-</td>\n",
              "      <td>-</td>\n",
              "      <td>-</td>\n",
              "      <td>-</td>\n",
              "      <td>-</td>\n",
              "      <td>-</td>\n",
              "      <td>-</td>\n",
              "      <td>-</td>\n",
              "      <td>-</td>\n",
              "      <td>-</td>\n",
              "      <td>-</td>\n",
              "      <td>-</td>\n",
              "      <td>-</td>\n",
              "      <td>-</td>\n",
              "      <td>-</td>\n",
              "      <td>-</td>\n",
              "      <td>-</td>\n",
              "      <td>-</td>\n",
              "      <td>-</td>\n",
              "      <td>-</td>\n",
              "      <td>-</td>\n",
              "      <td>-</td>\n",
              "      <td>-</td>\n",
              "      <td>-</td>\n",
              "      <td>-</td>\n",
              "      <td>-</td>\n",
              "      <td>-</td>\n",
              "      <td>-</td>\n",
              "      <td>...</td>\n",
              "      <td>8457455,71</td>\n",
              "      <td>7766983,20</td>\n",
              "      <td>8858845,57</td>\n",
              "      <td>8407076,44</td>\n",
              "      <td>9492938,92</td>\n",
              "      <td>8206195,92</td>\n",
              "      <td>9011612,58</td>\n",
              "      <td>9124967,84</td>\n",
              "      <td>8406732,72</td>\n",
              "      <td>8411360,02</td>\n",
              "      <td>8651081,66</td>\n",
              "      <td>8193425,99</td>\n",
              "      <td>8388269,45</td>\n",
              "      <td>8645315,78</td>\n",
              "      <td>9050329,13</td>\n",
              "      <td>9211262,51</td>\n",
              "      <td>9490545,02</td>\n",
              "      <td>8600886,20</td>\n",
              "      <td>8919190,86</td>\n",
              "      <td>8909111,89</td>\n",
              "      <td>8409386,09</td>\n",
              "      <td>8924348,41</td>\n",
              "      <td>8948605,66</td>\n",
              "      <td>8660753,05</td>\n",
              "      <td>8327665,97</td>\n",
              "      <td>8431334,62</td>\n",
              "      <td>7251287,20</td>\n",
              "      <td>7490440,60</td>\n",
              "      <td>8957706,45</td>\n",
              "      <td>10993332,84</td>\n",
              "      <td>10479989,36</td>\n",
              "      <td>11433467,56</td>\n",
              "      <td>8876900,39</td>\n",
              "      <td>8167253,19</td>\n",
              "      <td>8759013,71</td>\n",
              "      <td>9003402,23</td>\n",
              "      <td>8414690,60</td>\n",
              "      <td>6039419,59</td>\n",
              "      <td>4732441,04</td>\n",
              "      <td>996411254,68</td>\n",
              "    </tr>\n",
              "    <tr>\n",
              "      <th>1</th>\n",
              "      <td>12 Acre</td>\n",
              "      <td>-</td>\n",
              "      <td>-</td>\n",
              "      <td>-</td>\n",
              "      <td>-</td>\n",
              "      <td>-</td>\n",
              "      <td>-</td>\n",
              "      <td>-</td>\n",
              "      <td>-</td>\n",
              "      <td>-</td>\n",
              "      <td>-</td>\n",
              "      <td>-</td>\n",
              "      <td>-</td>\n",
              "      <td>-</td>\n",
              "      <td>-</td>\n",
              "      <td>-</td>\n",
              "      <td>-</td>\n",
              "      <td>-</td>\n",
              "      <td>-</td>\n",
              "      <td>-</td>\n",
              "      <td>-</td>\n",
              "      <td>-</td>\n",
              "      <td>-</td>\n",
              "      <td>-</td>\n",
              "      <td>-</td>\n",
              "      <td>-</td>\n",
              "      <td>-</td>\n",
              "      <td>-</td>\n",
              "      <td>-</td>\n",
              "      <td>-</td>\n",
              "      <td>-</td>\n",
              "      <td>-</td>\n",
              "      <td>-</td>\n",
              "      <td>-</td>\n",
              "      <td>-</td>\n",
              "      <td>-</td>\n",
              "      <td>-</td>\n",
              "      <td>-</td>\n",
              "      <td>-</td>\n",
              "      <td>-</td>\n",
              "      <td>...</td>\n",
              "      <td>2968168,75</td>\n",
              "      <td>2769797,39</td>\n",
              "      <td>3057631,96</td>\n",
              "      <td>2874965,31</td>\n",
              "      <td>3175575,17</td>\n",
              "      <td>3060903,21</td>\n",
              "      <td>3253011,61</td>\n",
              "      <td>3040645,05</td>\n",
              "      <td>2926179,27</td>\n",
              "      <td>3126120,64</td>\n",
              "      <td>2473454,85</td>\n",
              "      <td>2277493,49</td>\n",
              "      <td>2594347,32</td>\n",
              "      <td>2234388,36</td>\n",
              "      <td>2473008,49</td>\n",
              "      <td>2979764,77</td>\n",
              "      <td>3070533,95</td>\n",
              "      <td>3249052,69</td>\n",
              "      <td>3567538,64</td>\n",
              "      <td>2981072,98</td>\n",
              "      <td>2998860,31</td>\n",
              "      <td>3293378,97</td>\n",
              "      <td>3174249,43</td>\n",
              "      <td>2959569,09</td>\n",
              "      <td>3276790,55</td>\n",
              "      <td>2985763,71</td>\n",
              "      <td>2939675,20</td>\n",
              "      <td>2672857,33</td>\n",
              "      <td>2940827,86</td>\n",
              "      <td>3914823,86</td>\n",
              "      <td>4053085,41</td>\n",
              "      <td>3658265,59</td>\n",
              "      <td>3470409,45</td>\n",
              "      <td>3267918,69</td>\n",
              "      <td>3393958,27</td>\n",
              "      <td>3711660,71</td>\n",
              "      <td>3005561,16</td>\n",
              "      <td>2272733,90</td>\n",
              "      <td>1137341,65</td>\n",
              "      <td>450048530,47</td>\n",
              "    </tr>\n",
              "    <tr>\n",
              "      <th>2</th>\n",
              "      <td>13 Amazonas</td>\n",
              "      <td>-</td>\n",
              "      <td>-</td>\n",
              "      <td>-</td>\n",
              "      <td>-</td>\n",
              "      <td>-</td>\n",
              "      <td>-</td>\n",
              "      <td>-</td>\n",
              "      <td>-</td>\n",
              "      <td>-</td>\n",
              "      <td>-</td>\n",
              "      <td>-</td>\n",
              "      <td>-</td>\n",
              "      <td>-</td>\n",
              "      <td>-</td>\n",
              "      <td>-</td>\n",
              "      <td>-</td>\n",
              "      <td>-</td>\n",
              "      <td>-</td>\n",
              "      <td>-</td>\n",
              "      <td>-</td>\n",
              "      <td>-</td>\n",
              "      <td>-</td>\n",
              "      <td>-</td>\n",
              "      <td>-</td>\n",
              "      <td>-</td>\n",
              "      <td>-</td>\n",
              "      <td>-</td>\n",
              "      <td>-</td>\n",
              "      <td>-</td>\n",
              "      <td>-</td>\n",
              "      <td>-</td>\n",
              "      <td>-</td>\n",
              "      <td>-</td>\n",
              "      <td>-</td>\n",
              "      <td>-</td>\n",
              "      <td>-</td>\n",
              "      <td>-</td>\n",
              "      <td>-</td>\n",
              "      <td>-</td>\n",
              "      <td>...</td>\n",
              "      <td>14549450,86</td>\n",
              "      <td>12753555,36</td>\n",
              "      <td>14749409,47</td>\n",
              "      <td>14577930,81</td>\n",
              "      <td>15381061,96</td>\n",
              "      <td>14653650,77</td>\n",
              "      <td>15544595,79</td>\n",
              "      <td>16374961,41</td>\n",
              "      <td>15343340,93</td>\n",
              "      <td>16249963,61</td>\n",
              "      <td>14255408,82</td>\n",
              "      <td>14274053,94</td>\n",
              "      <td>15358914,00</td>\n",
              "      <td>14100074,56</td>\n",
              "      <td>16103971,89</td>\n",
              "      <td>16154491,82</td>\n",
              "      <td>16529976,06</td>\n",
              "      <td>15509984,83</td>\n",
              "      <td>16642220,71</td>\n",
              "      <td>16493719,52</td>\n",
              "      <td>15351607,47</td>\n",
              "      <td>16339427,95</td>\n",
              "      <td>14821977,50</td>\n",
              "      <td>14965815,90</td>\n",
              "      <td>15982353,42</td>\n",
              "      <td>15166470,82</td>\n",
              "      <td>14815958,58</td>\n",
              "      <td>16379386,07</td>\n",
              "      <td>19625325,21</td>\n",
              "      <td>18433057,47</td>\n",
              "      <td>19303743,16</td>\n",
              "      <td>18687233,58</td>\n",
              "      <td>18628627,49</td>\n",
              "      <td>18728251,20</td>\n",
              "      <td>20451573,77</td>\n",
              "      <td>21546059,48</td>\n",
              "      <td>24439059,57</td>\n",
              "      <td>13679358,06</td>\n",
              "      <td>6799060,80</td>\n",
              "      <td>1917247936,05</td>\n",
              "    </tr>\n",
              "    <tr>\n",
              "      <th>3</th>\n",
              "      <td>14 Roraima</td>\n",
              "      <td>-</td>\n",
              "      <td>-</td>\n",
              "      <td>-</td>\n",
              "      <td>-</td>\n",
              "      <td>-</td>\n",
              "      <td>-</td>\n",
              "      <td>-</td>\n",
              "      <td>-</td>\n",
              "      <td>-</td>\n",
              "      <td>-</td>\n",
              "      <td>-</td>\n",
              "      <td>-</td>\n",
              "      <td>-</td>\n",
              "      <td>-</td>\n",
              "      <td>-</td>\n",
              "      <td>-</td>\n",
              "      <td>-</td>\n",
              "      <td>-</td>\n",
              "      <td>-</td>\n",
              "      <td>-</td>\n",
              "      <td>-</td>\n",
              "      <td>-</td>\n",
              "      <td>-</td>\n",
              "      <td>-</td>\n",
              "      <td>-</td>\n",
              "      <td>-</td>\n",
              "      <td>-</td>\n",
              "      <td>-</td>\n",
              "      <td>-</td>\n",
              "      <td>-</td>\n",
              "      <td>-</td>\n",
              "      <td>-</td>\n",
              "      <td>-</td>\n",
              "      <td>-</td>\n",
              "      <td>-</td>\n",
              "      <td>-</td>\n",
              "      <td>-</td>\n",
              "      <td>-</td>\n",
              "      <td>-</td>\n",
              "      <td>...</td>\n",
              "      <td>2740952,07</td>\n",
              "      <td>2478349,44</td>\n",
              "      <td>2674958,94</td>\n",
              "      <td>2721261,19</td>\n",
              "      <td>2844811,66</td>\n",
              "      <td>2967161,35</td>\n",
              "      <td>2841587,97</td>\n",
              "      <td>3328230,63</td>\n",
              "      <td>2878691,04</td>\n",
              "      <td>2964324,32</td>\n",
              "      <td>2524712,40</td>\n",
              "      <td>2462451,64</td>\n",
              "      <td>2662240,18</td>\n",
              "      <td>2499996,16</td>\n",
              "      <td>2846135,56</td>\n",
              "      <td>2789823,29</td>\n",
              "      <td>2839389,53</td>\n",
              "      <td>2647540,20</td>\n",
              "      <td>2865777,71</td>\n",
              "      <td>3181321,82</td>\n",
              "      <td>3070436,96</td>\n",
              "      <td>3162342,44</td>\n",
              "      <td>3121104,71</td>\n",
              "      <td>2889969,87</td>\n",
              "      <td>3084561,08</td>\n",
              "      <td>2967159,04</td>\n",
              "      <td>2813954,05</td>\n",
              "      <td>2306119,95</td>\n",
              "      <td>2921522,16</td>\n",
              "      <td>3300012,98</td>\n",
              "      <td>3192075,41</td>\n",
              "      <td>3262354,34</td>\n",
              "      <td>2978629,22</td>\n",
              "      <td>3313296,78</td>\n",
              "      <td>3527263,23</td>\n",
              "      <td>3125021,90</td>\n",
              "      <td>3209323,68</td>\n",
              "      <td>3044798,77</td>\n",
              "      <td>2381844,31</td>\n",
              "      <td>328876965,09</td>\n",
              "    </tr>\n",
              "    <tr>\n",
              "      <th>4</th>\n",
              "      <td>15 Pará</td>\n",
              "      <td>-</td>\n",
              "      <td>-</td>\n",
              "      <td>-</td>\n",
              "      <td>-</td>\n",
              "      <td>-</td>\n",
              "      <td>-</td>\n",
              "      <td>-</td>\n",
              "      <td>-</td>\n",
              "      <td>-</td>\n",
              "      <td>-</td>\n",
              "      <td>-</td>\n",
              "      <td>-</td>\n",
              "      <td>-</td>\n",
              "      <td>-</td>\n",
              "      <td>-</td>\n",
              "      <td>-</td>\n",
              "      <td>-</td>\n",
              "      <td>-</td>\n",
              "      <td>-</td>\n",
              "      <td>-</td>\n",
              "      <td>-</td>\n",
              "      <td>-</td>\n",
              "      <td>-</td>\n",
              "      <td>-</td>\n",
              "      <td>-</td>\n",
              "      <td>-</td>\n",
              "      <td>-</td>\n",
              "      <td>-</td>\n",
              "      <td>-</td>\n",
              "      <td>-</td>\n",
              "      <td>-</td>\n",
              "      <td>-</td>\n",
              "      <td>-</td>\n",
              "      <td>-</td>\n",
              "      <td>-</td>\n",
              "      <td>-</td>\n",
              "      <td>-</td>\n",
              "      <td>-</td>\n",
              "      <td>-</td>\n",
              "      <td>...</td>\n",
              "      <td>33615836,09</td>\n",
              "      <td>30623491,62</td>\n",
              "      <td>34121931,00</td>\n",
              "      <td>35039954,20</td>\n",
              "      <td>35424611,06</td>\n",
              "      <td>34160283,18</td>\n",
              "      <td>34484949,49</td>\n",
              "      <td>35618364,04</td>\n",
              "      <td>34380916,90</td>\n",
              "      <td>38441090,50</td>\n",
              "      <td>33583538,08</td>\n",
              "      <td>32789354,87</td>\n",
              "      <td>34513534,80</td>\n",
              "      <td>31885919,67</td>\n",
              "      <td>33236155,79</td>\n",
              "      <td>31008924,95</td>\n",
              "      <td>31064106,50</td>\n",
              "      <td>28543179,30</td>\n",
              "      <td>36713929,36</td>\n",
              "      <td>36462011,47</td>\n",
              "      <td>36792954,02</td>\n",
              "      <td>36984314,60</td>\n",
              "      <td>35579251,49</td>\n",
              "      <td>35247659,30</td>\n",
              "      <td>37046350,76</td>\n",
              "      <td>34683341,17</td>\n",
              "      <td>34908420,50</td>\n",
              "      <td>29184688,30</td>\n",
              "      <td>43327731,71</td>\n",
              "      <td>40994545,21</td>\n",
              "      <td>40496349,97</td>\n",
              "      <td>38793393,54</td>\n",
              "      <td>36965951,76</td>\n",
              "      <td>38406616,21</td>\n",
              "      <td>37043032,10</td>\n",
              "      <td>36914437,92</td>\n",
              "      <td>33887773,65</td>\n",
              "      <td>23343222,94</td>\n",
              "      <td>13069564,31</td>\n",
              "      <td>4705309002,29</td>\n",
              "    </tr>\n",
              "  </tbody>\n",
              "</table>\n",
              "<p>5 rows × 287 columns</p>\n",
              "</div>"
            ],
            "text/plain": [
              "  Unidade da Federação 1992/Mar  ...     2021/Mar          Total\n",
              "0          11 Rondônia        -  ...   4732441,04   996411254,68\n",
              "1              12 Acre        -  ...   1137341,65   450048530,47\n",
              "2          13 Amazonas        -  ...   6799060,80  1917247936,05\n",
              "3           14 Roraima        -  ...   2381844,31   328876965,09\n",
              "4              15 Pará        -  ...  13069564,31  4705309002,29\n",
              "\n",
              "[5 rows x 287 columns]"
            ]
          },
          "metadata": {
            "tags": []
          },
          "execution_count": 5
        }
      ]
    },
    {
      "cell_type": "code",
      "metadata": {
        "colab": {
          "base_uri": "https://localhost:8080/"
        },
        "id": "39RG95M5qY-2",
        "outputId": "493f059c-7e41-4eb4-843b-420747a27be4"
      },
      "source": [
        "dados.mean()"
      ],
      "execution_count": null,
      "outputs": [
        {
          "output_type": "execute_result",
          "data": {
            "text/plain": [
              "Series([], dtype: float64)"
            ]
          },
          "metadata": {
            "tags": []
          },
          "execution_count": 6
        }
      ]
    },
    {
      "cell_type": "markdown",
      "metadata": {
        "id": "s0f7MowRrNjk"
      },
      "source": [
        "Vendo essa mensagem de erro, nós vemos que na verdade os valores são textos (Strings), e não números, porque, na língua portuguesa, nós identificamos separador de decimais com \",\" e o python por padrão utiliza \".\". Dessa forma, o python entende que o valor é uma String, e não um número.\n",
        "\n",
        "Para ajustar esse problema, precisamos informar no read csv outras informações - adicionar outros parâmetros"
      ]
    },
    {
      "cell_type": "code",
      "metadata": {
        "colab": {
          "base_uri": "https://localhost:8080/",
          "height": 330
        },
        "id": "dE0cMLnQrMzL",
        "outputId": "6cdaed22-cb2a-4a1f-f814-e759299c770a"
      },
      "source": [
        "dados = pd.read_csv(\"/content/drive/MyDrive/Pessoal/Colab Notebooks/Bootcamp Data Science Aplicada - Alura/Módulo 1/Dados/Valor total por Ano_mês atendimento segundo Unidade da Federação.csv\", encoding=\"ISO-8859-1\", skiprows=3, sep=\";\", skipfooter=12, thousands=\".\", decimal=\",\", engine=\"python\")\n",
        "dados.head()"
      ],
      "execution_count": null,
      "outputs": [
        {
          "output_type": "execute_result",
          "data": {
            "text/html": [
              "<div>\n",
              "<style scoped>\n",
              "    .dataframe tbody tr th:only-of-type {\n",
              "        vertical-align: middle;\n",
              "    }\n",
              "\n",
              "    .dataframe tbody tr th {\n",
              "        vertical-align: top;\n",
              "    }\n",
              "\n",
              "    .dataframe thead th {\n",
              "        text-align: right;\n",
              "    }\n",
              "</style>\n",
              "<table border=\"1\" class=\"dataframe\">\n",
              "  <thead>\n",
              "    <tr style=\"text-align: right;\">\n",
              "      <th></th>\n",
              "      <th>Unidade da Federação</th>\n",
              "      <th>1992/Mar</th>\n",
              "      <th>1992/Abr</th>\n",
              "      <th>1993/Mai</th>\n",
              "      <th>1993/Dez</th>\n",
              "      <th>1994/Jan</th>\n",
              "      <th>1994/Fev</th>\n",
              "      <th>1994/Mai</th>\n",
              "      <th>1994/Ago</th>\n",
              "      <th>1994/Nov</th>\n",
              "      <th>1995/Jan</th>\n",
              "      <th>1995/Mar</th>\n",
              "      <th>1995/Jun</th>\n",
              "      <th>1995/Ago</th>\n",
              "      <th>1995/Dez</th>\n",
              "      <th>1996/Fev</th>\n",
              "      <th>1996/Mar</th>\n",
              "      <th>1996/Ago</th>\n",
              "      <th>1996/Dez</th>\n",
              "      <th>1997/Fev</th>\n",
              "      <th>1997/Nov</th>\n",
              "      <th>1998/Fev</th>\n",
              "      <th>1998/Mar</th>\n",
              "      <th>1998/Jul</th>\n",
              "      <th>1998/Ago</th>\n",
              "      <th>1998/Set</th>\n",
              "      <th>1998/Out</th>\n",
              "      <th>1998/Dez</th>\n",
              "      <th>1999/Fev</th>\n",
              "      <th>1999/Mar</th>\n",
              "      <th>1999/Mai</th>\n",
              "      <th>1999/Jul</th>\n",
              "      <th>1999/Ago</th>\n",
              "      <th>1999/Set</th>\n",
              "      <th>1999/Out</th>\n",
              "      <th>1999/Nov</th>\n",
              "      <th>1999/Dez</th>\n",
              "      <th>2000/Jan</th>\n",
              "      <th>2000/Fev</th>\n",
              "      <th>2000/Mar</th>\n",
              "      <th>...</th>\n",
              "      <th>2017/Jun</th>\n",
              "      <th>2017/Jul</th>\n",
              "      <th>2017/Ago</th>\n",
              "      <th>2017/Set</th>\n",
              "      <th>2017/Out</th>\n",
              "      <th>2017/Nov</th>\n",
              "      <th>2017/Dez</th>\n",
              "      <th>2018/Jan</th>\n",
              "      <th>2018/Fev</th>\n",
              "      <th>2018/Mar</th>\n",
              "      <th>2018/Abr</th>\n",
              "      <th>2018/Mai</th>\n",
              "      <th>2018/Jun</th>\n",
              "      <th>2018/Jul</th>\n",
              "      <th>2018/Ago</th>\n",
              "      <th>2018/Set</th>\n",
              "      <th>2018/Out</th>\n",
              "      <th>2018/Nov</th>\n",
              "      <th>2018/Dez</th>\n",
              "      <th>2019/Jan</th>\n",
              "      <th>2019/Fev</th>\n",
              "      <th>2019/Mar</th>\n",
              "      <th>2019/Abr</th>\n",
              "      <th>2019/Mai</th>\n",
              "      <th>2019/Jun</th>\n",
              "      <th>2019/Jul</th>\n",
              "      <th>2019/Ago</th>\n",
              "      <th>2019/Set</th>\n",
              "      <th>2019/Out</th>\n",
              "      <th>2019/Nov</th>\n",
              "      <th>2019/Dez</th>\n",
              "      <th>2020/Jan</th>\n",
              "      <th>2020/Fev</th>\n",
              "      <th>2020/Mar</th>\n",
              "      <th>2020/Abr</th>\n",
              "      <th>2020/Mai</th>\n",
              "      <th>2020/Jun</th>\n",
              "      <th>2020/Jul</th>\n",
              "      <th>2020/Ago</th>\n",
              "      <th>Total</th>\n",
              "    </tr>\n",
              "  </thead>\n",
              "  <tbody>\n",
              "    <tr>\n",
              "      <th>0</th>\n",
              "      <td>11 Rondônia</td>\n",
              "      <td>-</td>\n",
              "      <td>-</td>\n",
              "      <td>-</td>\n",
              "      <td>-</td>\n",
              "      <td>-</td>\n",
              "      <td>-</td>\n",
              "      <td>-</td>\n",
              "      <td>-</td>\n",
              "      <td>-</td>\n",
              "      <td>-</td>\n",
              "      <td>-</td>\n",
              "      <td>-</td>\n",
              "      <td>-</td>\n",
              "      <td>-</td>\n",
              "      <td>-</td>\n",
              "      <td>-</td>\n",
              "      <td>-</td>\n",
              "      <td>-</td>\n",
              "      <td>-</td>\n",
              "      <td>-</td>\n",
              "      <td>-</td>\n",
              "      <td>-</td>\n",
              "      <td>-</td>\n",
              "      <td>-</td>\n",
              "      <td>-</td>\n",
              "      <td>-</td>\n",
              "      <td>-</td>\n",
              "      <td>-</td>\n",
              "      <td>-</td>\n",
              "      <td>-</td>\n",
              "      <td>-</td>\n",
              "      <td>-</td>\n",
              "      <td>-</td>\n",
              "      <td>-</td>\n",
              "      <td>-</td>\n",
              "      <td>-</td>\n",
              "      <td>-</td>\n",
              "      <td>-</td>\n",
              "      <td>-</td>\n",
              "      <td>...</td>\n",
              "      <td>8041248.80</td>\n",
              "      <td>8199032.67</td>\n",
              "      <td>8363386.07</td>\n",
              "      <td>7889819.50</td>\n",
              "      <td>8603943.85</td>\n",
              "      <td>8048398.25</td>\n",
              "      <td>8159737.49</td>\n",
              "      <td>8457455.71</td>\n",
              "      <td>7766983.20</td>\n",
              "      <td>8858845.57</td>\n",
              "      <td>8407076.44</td>\n",
              "      <td>9492938.92</td>\n",
              "      <td>8206195.92</td>\n",
              "      <td>9011612.58</td>\n",
              "      <td>9124967.84</td>\n",
              "      <td>8406732.72</td>\n",
              "      <td>8411360.02</td>\n",
              "      <td>8651081.66</td>\n",
              "      <td>8193425.99</td>\n",
              "      <td>8388269.45</td>\n",
              "      <td>8645315.78</td>\n",
              "      <td>9050329.13</td>\n",
              "      <td>9211262.51</td>\n",
              "      <td>9490545.02</td>\n",
              "      <td>8600886.20</td>\n",
              "      <td>8919190.86</td>\n",
              "      <td>8909111.89</td>\n",
              "      <td>8409386.09</td>\n",
              "      <td>8924348.41</td>\n",
              "      <td>8948605.66</td>\n",
              "      <td>8660753.05</td>\n",
              "      <td>8326416.32</td>\n",
              "      <td>8413784.42</td>\n",
              "      <td>7174312.31</td>\n",
              "      <td>7423678.64</td>\n",
              "      <td>8581195.13</td>\n",
              "      <td>9193593.76</td>\n",
              "      <td>7407388.24</td>\n",
              "      <td>3556381.57</td>\n",
              "      <td>9.291297e+08</td>\n",
              "    </tr>\n",
              "    <tr>\n",
              "      <th>1</th>\n",
              "      <td>12 Acre</td>\n",
              "      <td>-</td>\n",
              "      <td>-</td>\n",
              "      <td>-</td>\n",
              "      <td>-</td>\n",
              "      <td>-</td>\n",
              "      <td>-</td>\n",
              "      <td>-</td>\n",
              "      <td>-</td>\n",
              "      <td>-</td>\n",
              "      <td>-</td>\n",
              "      <td>-</td>\n",
              "      <td>-</td>\n",
              "      <td>-</td>\n",
              "      <td>-</td>\n",
              "      <td>-</td>\n",
              "      <td>-</td>\n",
              "      <td>-</td>\n",
              "      <td>-</td>\n",
              "      <td>-</td>\n",
              "      <td>-</td>\n",
              "      <td>-</td>\n",
              "      <td>-</td>\n",
              "      <td>-</td>\n",
              "      <td>-</td>\n",
              "      <td>-</td>\n",
              "      <td>-</td>\n",
              "      <td>-</td>\n",
              "      <td>-</td>\n",
              "      <td>-</td>\n",
              "      <td>-</td>\n",
              "      <td>-</td>\n",
              "      <td>-</td>\n",
              "      <td>-</td>\n",
              "      <td>-</td>\n",
              "      <td>-</td>\n",
              "      <td>-</td>\n",
              "      <td>-</td>\n",
              "      <td>-</td>\n",
              "      <td>-</td>\n",
              "      <td>...</td>\n",
              "      <td>3355223.35</td>\n",
              "      <td>3562691.54</td>\n",
              "      <td>3375296.64</td>\n",
              "      <td>3341497.58</td>\n",
              "      <td>3358378.05</td>\n",
              "      <td>3145385.44</td>\n",
              "      <td>2638773.92</td>\n",
              "      <td>2968168.75</td>\n",
              "      <td>2769797.39</td>\n",
              "      <td>3057631.96</td>\n",
              "      <td>2874965.31</td>\n",
              "      <td>3175575.17</td>\n",
              "      <td>3060903.21</td>\n",
              "      <td>3253011.61</td>\n",
              "      <td>3040645.05</td>\n",
              "      <td>2926179.27</td>\n",
              "      <td>3126120.64</td>\n",
              "      <td>2473454.85</td>\n",
              "      <td>2277493.49</td>\n",
              "      <td>2594347.32</td>\n",
              "      <td>2234388.36</td>\n",
              "      <td>2473008.49</td>\n",
              "      <td>2979764.77</td>\n",
              "      <td>3070533.95</td>\n",
              "      <td>3249052.69</td>\n",
              "      <td>3567538.64</td>\n",
              "      <td>2981072.98</td>\n",
              "      <td>2998860.31</td>\n",
              "      <td>3293378.97</td>\n",
              "      <td>3174249.43</td>\n",
              "      <td>2959569.09</td>\n",
              "      <td>3261123.88</td>\n",
              "      <td>2981264.22</td>\n",
              "      <td>2859102.06</td>\n",
              "      <td>2472063.08</td>\n",
              "      <td>2383895.48</td>\n",
              "      <td>2199920.70</td>\n",
              "      <td>1163813.08</td>\n",
              "      <td>-</td>\n",
              "      <td>4.206680e+08</td>\n",
              "    </tr>\n",
              "    <tr>\n",
              "      <th>2</th>\n",
              "      <td>13 Amazonas</td>\n",
              "      <td>-</td>\n",
              "      <td>-</td>\n",
              "      <td>-</td>\n",
              "      <td>-</td>\n",
              "      <td>-</td>\n",
              "      <td>-</td>\n",
              "      <td>-</td>\n",
              "      <td>-</td>\n",
              "      <td>-</td>\n",
              "      <td>-</td>\n",
              "      <td>-</td>\n",
              "      <td>-</td>\n",
              "      <td>-</td>\n",
              "      <td>-</td>\n",
              "      <td>-</td>\n",
              "      <td>-</td>\n",
              "      <td>-</td>\n",
              "      <td>-</td>\n",
              "      <td>-</td>\n",
              "      <td>-</td>\n",
              "      <td>-</td>\n",
              "      <td>-</td>\n",
              "      <td>-</td>\n",
              "      <td>-</td>\n",
              "      <td>-</td>\n",
              "      <td>-</td>\n",
              "      <td>-</td>\n",
              "      <td>-</td>\n",
              "      <td>-</td>\n",
              "      <td>-</td>\n",
              "      <td>-</td>\n",
              "      <td>-</td>\n",
              "      <td>-</td>\n",
              "      <td>-</td>\n",
              "      <td>-</td>\n",
              "      <td>-</td>\n",
              "      <td>-</td>\n",
              "      <td>-</td>\n",
              "      <td>-</td>\n",
              "      <td>...</td>\n",
              "      <td>13718828.46</td>\n",
              "      <td>14396210.86</td>\n",
              "      <td>13745304.22</td>\n",
              "      <td>13979792.94</td>\n",
              "      <td>13895515.90</td>\n",
              "      <td>13518116.80</td>\n",
              "      <td>13635186.02</td>\n",
              "      <td>14549450.86</td>\n",
              "      <td>12753555.36</td>\n",
              "      <td>14749409.47</td>\n",
              "      <td>14577930.81</td>\n",
              "      <td>15381061.96</td>\n",
              "      <td>14653650.77</td>\n",
              "      <td>15544595.79</td>\n",
              "      <td>16374961.41</td>\n",
              "      <td>15343340.93</td>\n",
              "      <td>16249963.61</td>\n",
              "      <td>14255408.82</td>\n",
              "      <td>14274053.94</td>\n",
              "      <td>15358914.00</td>\n",
              "      <td>14100074.56</td>\n",
              "      <td>16103971.89</td>\n",
              "      <td>16154491.82</td>\n",
              "      <td>16529976.06</td>\n",
              "      <td>15509984.83</td>\n",
              "      <td>16642220.71</td>\n",
              "      <td>16493719.52</td>\n",
              "      <td>15346323.27</td>\n",
              "      <td>16282436.68</td>\n",
              "      <td>14781332.42</td>\n",
              "      <td>14923380.22</td>\n",
              "      <td>15939561.23</td>\n",
              "      <td>15138110.70</td>\n",
              "      <td>14773739.41</td>\n",
              "      <td>16330913.81</td>\n",
              "      <td>19441150.53</td>\n",
              "      <td>17509334.66</td>\n",
              "      <td>13358514.02</td>\n",
              "      <td>4726485.73</td>\n",
              "      <td>1.771655e+09</td>\n",
              "    </tr>\n",
              "    <tr>\n",
              "      <th>3</th>\n",
              "      <td>14 Roraima</td>\n",
              "      <td>-</td>\n",
              "      <td>-</td>\n",
              "      <td>-</td>\n",
              "      <td>-</td>\n",
              "      <td>-</td>\n",
              "      <td>-</td>\n",
              "      <td>-</td>\n",
              "      <td>-</td>\n",
              "      <td>-</td>\n",
              "      <td>-</td>\n",
              "      <td>-</td>\n",
              "      <td>-</td>\n",
              "      <td>-</td>\n",
              "      <td>-</td>\n",
              "      <td>-</td>\n",
              "      <td>-</td>\n",
              "      <td>-</td>\n",
              "      <td>-</td>\n",
              "      <td>-</td>\n",
              "      <td>-</td>\n",
              "      <td>-</td>\n",
              "      <td>-</td>\n",
              "      <td>-</td>\n",
              "      <td>-</td>\n",
              "      <td>-</td>\n",
              "      <td>-</td>\n",
              "      <td>-</td>\n",
              "      <td>-</td>\n",
              "      <td>-</td>\n",
              "      <td>-</td>\n",
              "      <td>-</td>\n",
              "      <td>-</td>\n",
              "      <td>-</td>\n",
              "      <td>-</td>\n",
              "      <td>-</td>\n",
              "      <td>-</td>\n",
              "      <td>-</td>\n",
              "      <td>-</td>\n",
              "      <td>-</td>\n",
              "      <td>...</td>\n",
              "      <td>2699213.85</td>\n",
              "      <td>2682746.28</td>\n",
              "      <td>2891100.20</td>\n",
              "      <td>2737677.78</td>\n",
              "      <td>2693726.29</td>\n",
              "      <td>2671451.53</td>\n",
              "      <td>2688315.70</td>\n",
              "      <td>2740952.07</td>\n",
              "      <td>2478349.44</td>\n",
              "      <td>2674958.94</td>\n",
              "      <td>2721261.19</td>\n",
              "      <td>2844811.66</td>\n",
              "      <td>2967161.35</td>\n",
              "      <td>2841587.97</td>\n",
              "      <td>3328230.63</td>\n",
              "      <td>2878691.04</td>\n",
              "      <td>2964324.32</td>\n",
              "      <td>2524712.40</td>\n",
              "      <td>2462451.64</td>\n",
              "      <td>2662240.18</td>\n",
              "      <td>2499996.16</td>\n",
              "      <td>2846135.56</td>\n",
              "      <td>2789823.29</td>\n",
              "      <td>2839389.53</td>\n",
              "      <td>2647540.20</td>\n",
              "      <td>2865777.71</td>\n",
              "      <td>3181321.82</td>\n",
              "      <td>3070436.96</td>\n",
              "      <td>3162342.44</td>\n",
              "      <td>3121104.71</td>\n",
              "      <td>2889969.87</td>\n",
              "      <td>3084561.08</td>\n",
              "      <td>2967159.04</td>\n",
              "      <td>2813954.05</td>\n",
              "      <td>2304961.42</td>\n",
              "      <td>2910776.44</td>\n",
              "      <td>3216466.51</td>\n",
              "      <td>2739498.41</td>\n",
              "      <td>1524478.04</td>\n",
              "      <td>3.050109e+08</td>\n",
              "    </tr>\n",
              "    <tr>\n",
              "      <th>4</th>\n",
              "      <td>15 Pará</td>\n",
              "      <td>-</td>\n",
              "      <td>-</td>\n",
              "      <td>-</td>\n",
              "      <td>-</td>\n",
              "      <td>-</td>\n",
              "      <td>-</td>\n",
              "      <td>-</td>\n",
              "      <td>-</td>\n",
              "      <td>-</td>\n",
              "      <td>-</td>\n",
              "      <td>-</td>\n",
              "      <td>-</td>\n",
              "      <td>-</td>\n",
              "      <td>-</td>\n",
              "      <td>-</td>\n",
              "      <td>-</td>\n",
              "      <td>-</td>\n",
              "      <td>-</td>\n",
              "      <td>-</td>\n",
              "      <td>-</td>\n",
              "      <td>-</td>\n",
              "      <td>-</td>\n",
              "      <td>-</td>\n",
              "      <td>-</td>\n",
              "      <td>-</td>\n",
              "      <td>-</td>\n",
              "      <td>-</td>\n",
              "      <td>-</td>\n",
              "      <td>-</td>\n",
              "      <td>-</td>\n",
              "      <td>-</td>\n",
              "      <td>-</td>\n",
              "      <td>-</td>\n",
              "      <td>-</td>\n",
              "      <td>-</td>\n",
              "      <td>-</td>\n",
              "      <td>-</td>\n",
              "      <td>-</td>\n",
              "      <td>-</td>\n",
              "      <td>...</td>\n",
              "      <td>31808597.47</td>\n",
              "      <td>32133134.42</td>\n",
              "      <td>33770556.65</td>\n",
              "      <td>32979925.38</td>\n",
              "      <td>33665042.35</td>\n",
              "      <td>33475545.29</td>\n",
              "      <td>32067934.67</td>\n",
              "      <td>33615836.09</td>\n",
              "      <td>30623491.62</td>\n",
              "      <td>34121931.00</td>\n",
              "      <td>35039954.20</td>\n",
              "      <td>35424611.06</td>\n",
              "      <td>34160283.18</td>\n",
              "      <td>34484949.49</td>\n",
              "      <td>35618364.04</td>\n",
              "      <td>34380916.90</td>\n",
              "      <td>38441090.50</td>\n",
              "      <td>33583538.08</td>\n",
              "      <td>32789354.87</td>\n",
              "      <td>34513534.80</td>\n",
              "      <td>31885919.67</td>\n",
              "      <td>33236155.79</td>\n",
              "      <td>31008924.95</td>\n",
              "      <td>31064106.50</td>\n",
              "      <td>28543179.30</td>\n",
              "      <td>36713929.36</td>\n",
              "      <td>36462011.47</td>\n",
              "      <td>36790758.67</td>\n",
              "      <td>36974859.69</td>\n",
              "      <td>35555518.00</td>\n",
              "      <td>35222625.80</td>\n",
              "      <td>37009819.17</td>\n",
              "      <td>34635702.52</td>\n",
              "      <td>34749098.46</td>\n",
              "      <td>28714969.96</td>\n",
              "      <td>41248502.78</td>\n",
              "      <td>35396030.78</td>\n",
              "      <td>27618727.51</td>\n",
              "      <td>11559714.54</td>\n",
              "      <td>4.437116e+09</td>\n",
              "    </tr>\n",
              "  </tbody>\n",
              "</table>\n",
              "<p>5 rows × 280 columns</p>\n",
              "</div>"
            ],
            "text/plain": [
              "  Unidade da Federação 1992/Mar  ...     2020/Ago         Total\n",
              "0          11 Rondônia        -  ...   3556381.57  9.291297e+08\n",
              "1              12 Acre        -  ...            -  4.206680e+08\n",
              "2          13 Amazonas        -  ...   4726485.73  1.771655e+09\n",
              "3           14 Roraima        -  ...   1524478.04  3.050109e+08\n",
              "4              15 Pará        -  ...  11559714.54  4.437116e+09\n",
              "\n",
              "[5 rows x 280 columns]"
            ]
          },
          "metadata": {
            "tags": []
          },
          "execution_count": 7
        }
      ]
    },
    {
      "cell_type": "code",
      "metadata": {
        "colab": {
          "base_uri": "https://localhost:8080/"
        },
        "id": "Vzz1qLcFr69Q",
        "outputId": "feb40ac2-e5d6-44af-c825-aaccb045067a"
      },
      "source": [
        "dados.mean()"
      ],
      "execution_count": null,
      "outputs": [
        {
          "output_type": "execute_result",
          "data": {
            "text/plain": [
              "2007/Ago    3.049528e+05\n",
              "2007/Set    7.881453e+05\n",
              "2007/Out    2.440163e+06\n",
              "2007/Nov    5.517354e+06\n",
              "2007/Dez    1.233716e+07\n",
              "                ...     \n",
              "2020/Abr    4.000568e+07\n",
              "2020/Mai    4.676903e+07\n",
              "2020/Jun    4.536735e+07\n",
              "2020/Jul    4.071708e+07\n",
              "Total       5.993724e+09\n",
              "Length: 157, dtype: float64"
            ]
          },
          "metadata": {
            "tags": []
          },
          "execution_count": 8
        }
      ]
    },
    {
      "cell_type": "markdown",
      "metadata": {
        "id": "dkoyHb_1sFyQ"
      },
      "source": [
        "Não conseguimos analisar bem essas informações porque os dados estão em notação científica (forma de impressão está como notação científica). Para resolver o problema, basta alterar de forma global essa forma de impressão"
      ]
    },
    {
      "cell_type": "code",
      "metadata": {
        "id": "30WG2TgisEl7"
      },
      "source": [
        "pd.options.display.float_format = \"{:.2f}\".format"
      ],
      "execution_count": null,
      "outputs": []
    },
    {
      "cell_type": "code",
      "metadata": {
        "colab": {
          "base_uri": "https://localhost:8080/"
        },
        "id": "eFr1va2FsocM",
        "outputId": "3120753a-1ba3-4903-e3f5-094036bdcf67"
      },
      "source": [
        "dados.mean()"
      ],
      "execution_count": null,
      "outputs": [
        {
          "output_type": "execute_result",
          "data": {
            "text/plain": [
              "2007/Ago       304952.77\n",
              "2007/Set       788145.26\n",
              "2007/Out      2440162.96\n",
              "2007/Nov      5517354.05\n",
              "2007/Dez     12337159.42\n",
              "                ...     \n",
              "2020/Abr     40005678.92\n",
              "2020/Mai     46769027.82\n",
              "2020/Jun     45367349.74\n",
              "2020/Jul     40717083.95\n",
              "Total      5993724452.01\n",
              "Length: 157, dtype: float64"
            ]
          },
          "metadata": {
            "tags": []
          },
          "execution_count": 10
        }
      ]
    },
    {
      "cell_type": "markdown",
      "metadata": {
        "id": "IDewxn5lsxuy"
      },
      "source": [
        "Como podemos fazer para selecionar os valores da coluna 2008/jan?"
      ]
    },
    {
      "cell_type": "markdown",
      "metadata": {
        "id": "Or1Vj7rGtfI8"
      },
      "source": [
        "Retomando o questionamento do vídeo anterior: Como podemos fazer para selecionar os valores da coluna 2008/jan?"
      ]
    },
    {
      "cell_type": "code",
      "metadata": {
        "colab": {
          "base_uri": "https://localhost:8080/"
        },
        "id": "cg8V46XespfK",
        "outputId": "e680cdcd-d0c0-4c15-d281-81b663f0acc8"
      },
      "source": [
        "dados[\"2008/Jan\"]"
      ],
      "execution_count": null,
      "outputs": [
        {
          "output_type": "execute_result",
          "data": {
            "text/plain": [
              "0       1829559.71\n",
              "1       1731744.62\n",
              "2      11419210.08\n",
              "3        808448.39\n",
              "4      21762104.16\n",
              "5       1329876.61\n",
              "6       5136474.61\n",
              "7      21551600.33\n",
              "8      11375419.37\n",
              "9      32444328.54\n",
              "10     11763899.23\n",
              "11     16599004.84\n",
              "12     51219113.60\n",
              "13     16503978.22\n",
              "14      5439985.99\n",
              "15     73336297.08\n",
              "16    205912743.65\n",
              "17     16212109.41\n",
              "18    250564959.99\n",
              "19   1023564534.21\n",
              "20     58081334.45\n",
              "21     53034384.67\n",
              "22     51064610.03\n",
              "23      8301006.10\n",
              "24      8213438.64\n",
              "25     74063828.22\n",
              "26     10561085.46\n",
              "Name: 2008/Jan, dtype: float64"
            ]
          },
          "metadata": {
            "tags": []
          },
          "execution_count": 11
        }
      ]
    },
    {
      "cell_type": "markdown",
      "metadata": {
        "id": "oVVPtuhJuIT2"
      },
      "source": [
        "Esses valores que aparecem de uma coluna apenas são chamados de SÉRIES. A forma de chamar uma coluna é a mesma forma de chamar o Value de um Dictionary (chamando o Key do Dictionary)"
      ]
    },
    {
      "cell_type": "code",
      "metadata": {
        "colab": {
          "base_uri": "https://localhost:8080/"
        },
        "id": "V8bn8KeTt3US",
        "outputId": "d505afc5-5adf-4edd-9b9f-474ec603a361"
      },
      "source": [
        "dados[\"2008/Ago\"].mean()"
      ],
      "execution_count": null,
      "outputs": [
        {
          "output_type": "execute_result",
          "data": {
            "text/plain": [
              "26636409.892222222"
            ]
          },
          "metadata": {
            "tags": []
          },
          "execution_count": 12
        }
      ]
    },
    {
      "cell_type": "code",
      "metadata": {
        "colab": {
          "base_uri": "https://localhost:8080/",
          "height": 308
        },
        "id": "HbyaLnPnuR5W",
        "outputId": "2ac48694-8c8b-4856-9843-084b4c31b92f"
      },
      "source": [
        "dados.plot(x=\"Unidade da Federação\", y=\"2008/Ago\")"
      ],
      "execution_count": null,
      "outputs": [
        {
          "output_type": "execute_result",
          "data": {
            "text/plain": [
              "<matplotlib.axes._subplots.AxesSubplot at 0x7f85f2798e10>"
            ]
          },
          "metadata": {
            "tags": []
          },
          "execution_count": 13
        },
        {
          "output_type": "display_data",
          "data": {
            "image/png": "[encoded data removed]",
            "text/plain": [
              "<Figure size 432x288 with 1 Axes>"
            ]
          },
          "metadata": {
            "tags": [],
            "needs_background": "light"
          }
        }
      ]
    },
    {
      "cell_type": "markdown",
      "metadata": {
        "id": "XlB2h3tmvYzk"
      },
      "source": [
        "Esse gráfico não está muito visível, porque as legendas não estão muito boas e, principalmente, porque, pelo tipo de dados que estamos lendo, o gráfico de linhas é ruim para visualização. É melhor plotar o gráfico de barras.\n",
        "\n",
        "Para plotar o gráfico de barras podemos fazer da forma que está abaixo ou podemos fazer:\n",
        "dados.plot(x=\"Unidade da Federação\", y=\"2008/Ago\", kind=\"bar\")"
      ]
    },
    {
      "cell_type": "code",
      "metadata": {
        "colab": {
          "base_uri": "https://localhost:8080/",
          "height": 415
        },
        "id": "r2tZV637v4-i",
        "outputId": "2abd4b06-b43f-45d6-9f7f-d9e7588f3167"
      },
      "source": [
        "dados.plot.bar(x=\"Unidade da Federação\", y=\"2008/Ago\")"
      ],
      "execution_count": null,
      "outputs": [
        {
          "output_type": "execute_result",
          "data": {
            "text/plain": [
              "<matplotlib.axes._subplots.AxesSubplot at 0x7f85f27d3d90>"
            ]
          },
          "metadata": {
            "tags": []
          },
          "execution_count": 14
        },
        {
          "output_type": "display_data",
          "data": {
            "image/png": "[encoded data removed]",
            "text/plain": [
              "<Figure size 432x288 with 1 Axes>"
            ]
          },
          "metadata": {
            "tags": [],
            "needs_background": "light"
          }
        }
      ]
    },
    {
      "cell_type": "markdown",
      "metadata": {
        "id": "cPYMwviqxNN5"
      },
      "source": [
        "Nesse gráfico, podemos aumentar o tamanho da figura. Usamos o parâmatro Figsize para aumentar o tamanho colocando uma tupla de valores"
      ]
    },
    {
      "cell_type": "code",
      "metadata": {
        "colab": {
          "base_uri": "https://localhost:8080/",
          "height": 578
        },
        "id": "pka9nvUev8mu",
        "outputId": "b458517f-fc7a-4780-e5fc-43e33bf0e4d5"
      },
      "source": [
        "dados.plot.bar(x=\"Unidade da Federação\", y=\"2008/Ago\", figsize=(10, 7))"
      ],
      "execution_count": null,
      "outputs": [
        {
          "output_type": "execute_result",
          "data": {
            "text/plain": [
              "<matplotlib.axes._subplots.AxesSubplot at 0x7f85f2155d90>"
            ]
          },
          "metadata": {
            "tags": []
          },
          "execution_count": 15
        },
        {
          "output_type": "display_data",
          "data": {
            "image/png": "[encoded data removed]",
            "text/plain": [
              "<Figure size 720x504 with 1 Axes>"
            ]
          },
          "metadata": {
            "tags": [],
            "needs_background": "light"
          }
        }
      ]
    },
    {
      "cell_type": "markdown",
      "metadata": {
        "id": "7nqk-FN6xjdh"
      },
      "source": [
        "Para arrumar esse problema, precisamos primeiramente usar a biblioteca matplotlib.pyplot usando a função import e importar a biblioteca matplotlib.ticker.FormatStrFormatter"
      ]
    },
    {
      "cell_type": "markdown",
      "metadata": {
        "id": "dnYQHKB-0vlS"
      },
      "source": [
        "#### Desafio 01: escolher um título mais descritivo, que passe a mensagem adequada.\n",
        "obs: pensar no que você vai falar no gráfico. Porque se pensar \"Valor por unidade da federação\" não é um título que passa nenhuma mensagem, não agrega em nada. Na verdade era só ter lido os eixos que você já chegaria na conclusão do título"
      ]
    },
    {
      "cell_type": "code",
      "metadata": {
        "colab": {
          "base_uri": "https://localhost:8080/"
        },
        "id": "BBFhHIU5xbda",
        "outputId": "23541acd-4d64-45a6-bd98-8c902db1a0a0"
      },
      "source": [
        "import matplotlib.pyplot as plt\n",
        "import matplotlib.ticker as ticker\n",
        "\n",
        "ax = dados.plot.bar(x=\"Unidade da Federação\", y=\"2008/Ago\", figsize=(10, 7))\n",
        "#esse AX também é a mesma coisa que AXIS, que são os controles dos eixos X e eixos Y de um gráfico\n",
        "\n",
        "ax.yaxis.set_major_formatter(ticker.StrMethodFormatter(\"{x:,.2f}\"))\n",
        "#buscar na documentação essa função e colocar o \",\" para separação de milhares e \".\" para separação de decimais com duas casas\n",
        "\n",
        "plt.title(\"Valor total de gastos em produção hospitalar por UF em ago/2008\")\n",
        "#função para colocar o título em um gráfico\n",
        "\n",
        "plt.show()\n",
        "#método para excluir algumas informações de detalhes que apareceria antes do gráfico"
      ],
      "execution_count": null,
      "outputs": [
        {
          "output_type": "display_data",
          "data": {
            "image/png": "[encoded data removed]",
            "text/plain": [
              "<Figure size 720x504 with 1 Axes>"
            ]
          },
          "metadata": {
            "tags": [],
            "needs_background": "light"
          }
        }
      ]
    },
    {
      "cell_type": "markdown",
      "metadata": {
        "id": "RkwVQh5-25vz"
      },
      "source": [
        "No caso do título, precisaríamos informar quais são os valores que estão sendo exibiso (valor total de gastos em produção hospitalar) separado por UF da série histórica de agosto de 2008"
      ]
    },
    {
      "cell_type": "markdown",
      "metadata": {
        "id": "Y_TB-9Da1hPZ"
      },
      "source": [
        "#### Desafio 02: Faça a mesma análise para o mês mais recente"
      ]
    },
    {
      "cell_type": "code",
      "metadata": {
        "id": "J05zMoclyItG",
        "colab": {
          "base_uri": "https://localhost:8080/",
          "height": 370
        },
        "outputId": "7aa9ec4e-95ab-44d3-b7e3-6170a7b03b74"
      },
      "source": [
        "ax = dados.sort_values(by=\"2021/Mar\", ascending = False).plot.bar(x=\"Unidade da Federação\", y=\"2021/Mar\", figsize=(10, 7))\n",
        "ax.yaxis.set_major_formatter(ticker.StrMethodFormatter(\"{x:,.2f}\"))\n",
        "plt.title(\"Valor total de gastos em produção hospitalar por UF em mar/2021\")\n",
        "plt.show()"
      ],
      "execution_count": null,
      "outputs": [
        {
          "output_type": "error",
          "ename": "KeyError",
          "evalue": "ignored",
          "traceback": [
            "\u001b[0;31m---------------------------------------------------------------------------\u001b[0m",
            "\u001b[0;31mKeyError\u001b[0m                                  Traceback (most recent call last)",
            "\u001b[0;32m<ipython-input-17-184a10392aa0>\u001b[0m in \u001b[0;36m<module>\u001b[0;34m()\u001b[0m\n\u001b[0;32m----> 1\u001b[0;31m \u001b[0max\u001b[0m \u001b[0;34m=\u001b[0m \u001b[0mdados\u001b[0m\u001b[0;34m.\u001b[0m\u001b[0msort_values\u001b[0m\u001b[0;34m(\u001b[0m\u001b[0mby\u001b[0m\u001b[0;34m=\u001b[0m\u001b[0;34m\"2021/Mar\"\u001b[0m\u001b[0;34m,\u001b[0m \u001b[0mascending\u001b[0m \u001b[0;34m=\u001b[0m \u001b[0;32mFalse\u001b[0m\u001b[0;34m)\u001b[0m\u001b[0;34m.\u001b[0m\u001b[0mplot\u001b[0m\u001b[0;34m.\u001b[0m\u001b[0mbar\u001b[0m\u001b[0;34m(\u001b[0m\u001b[0mx\u001b[0m\u001b[0;34m=\u001b[0m\u001b[0;34m\"Unidade da Federação\"\u001b[0m\u001b[0;34m,\u001b[0m \u001b[0my\u001b[0m\u001b[0;34m=\u001b[0m\u001b[0;34m\"2021/Mar\"\u001b[0m\u001b[0;34m,\u001b[0m \u001b[0mfigsize\u001b[0m\u001b[0;34m=\u001b[0m\u001b[0;34m(\u001b[0m\u001b[0;36m10\u001b[0m\u001b[0;34m,\u001b[0m \u001b[0;36m7\u001b[0m\u001b[0;34m)\u001b[0m\u001b[0;34m)\u001b[0m\u001b[0;34m\u001b[0m\u001b[0;34m\u001b[0m\u001b[0m\n\u001b[0m\u001b[1;32m      2\u001b[0m \u001b[0max\u001b[0m\u001b[0;34m.\u001b[0m\u001b[0myaxis\u001b[0m\u001b[0;34m.\u001b[0m\u001b[0mset_major_formatter\u001b[0m\u001b[0;34m(\u001b[0m\u001b[0mticker\u001b[0m\u001b[0;34m.\u001b[0m\u001b[0mStrMethodFormatter\u001b[0m\u001b[0;34m(\u001b[0m\u001b[0;34m\"{x:,.2f}\"\u001b[0m\u001b[0;34m)\u001b[0m\u001b[0;34m)\u001b[0m\u001b[0;34m\u001b[0m\u001b[0;34m\u001b[0m\u001b[0m\n\u001b[1;32m      3\u001b[0m \u001b[0mplt\u001b[0m\u001b[0;34m.\u001b[0m\u001b[0mtitle\u001b[0m\u001b[0;34m(\u001b[0m\u001b[0;34m\"Valor total de gastos em produção hospitalar por UF em mar/2021\"\u001b[0m\u001b[0;34m)\u001b[0m\u001b[0;34m\u001b[0m\u001b[0;34m\u001b[0m\u001b[0m\n\u001b[1;32m      4\u001b[0m \u001b[0mplt\u001b[0m\u001b[0;34m.\u001b[0m\u001b[0mshow\u001b[0m\u001b[0;34m(\u001b[0m\u001b[0;34m)\u001b[0m\u001b[0;34m\u001b[0m\u001b[0;34m\u001b[0m\u001b[0m\n",
            "\u001b[0;32m/usr/local/lib/python3.7/dist-packages/pandas/core/frame.py\u001b[0m in \u001b[0;36msort_values\u001b[0;34m(self, by, axis, ascending, inplace, kind, na_position, ignore_index, key)\u001b[0m\n\u001b[1;32m   5296\u001b[0m \u001b[0;34m\u001b[0m\u001b[0m\n\u001b[1;32m   5297\u001b[0m             \u001b[0mby\u001b[0m \u001b[0;34m=\u001b[0m \u001b[0mby\u001b[0m\u001b[0;34m[\u001b[0m\u001b[0;36m0\u001b[0m\u001b[0;34m]\u001b[0m\u001b[0;34m\u001b[0m\u001b[0;34m\u001b[0m\u001b[0m\n\u001b[0;32m-> 5298\u001b[0;31m             \u001b[0mk\u001b[0m \u001b[0;34m=\u001b[0m \u001b[0mself\u001b[0m\u001b[0;34m.\u001b[0m\u001b[0m_get_label_or_level_values\u001b[0m\u001b[0;34m(\u001b[0m\u001b[0mby\u001b[0m\u001b[0;34m,\u001b[0m \u001b[0maxis\u001b[0m\u001b[0;34m=\u001b[0m\u001b[0maxis\u001b[0m\u001b[0;34m)\u001b[0m\u001b[0;34m\u001b[0m\u001b[0;34m\u001b[0m\u001b[0m\n\u001b[0m\u001b[1;32m   5299\u001b[0m \u001b[0;34m\u001b[0m\u001b[0m\n\u001b[1;32m   5300\u001b[0m             \u001b[0;31m# need to rewrap column in Series to apply key function\u001b[0m\u001b[0;34m\u001b[0m\u001b[0;34m\u001b[0m\u001b[0;34m\u001b[0m\u001b[0m\n",
            "\u001b[0;32m/usr/local/lib/python3.7/dist-packages/pandas/core/generic.py\u001b[0m in \u001b[0;36m_get_label_or_level_values\u001b[0;34m(self, key, axis)\u001b[0m\n\u001b[1;32m   1561\u001b[0m             \u001b[0mvalues\u001b[0m \u001b[0;34m=\u001b[0m \u001b[0mself\u001b[0m\u001b[0;34m.\u001b[0m\u001b[0maxes\u001b[0m\u001b[0;34m[\u001b[0m\u001b[0maxis\u001b[0m\u001b[0;34m]\u001b[0m\u001b[0;34m.\u001b[0m\u001b[0mget_level_values\u001b[0m\u001b[0;34m(\u001b[0m\u001b[0mkey\u001b[0m\u001b[0;34m)\u001b[0m\u001b[0;34m.\u001b[0m\u001b[0m_values\u001b[0m\u001b[0;34m\u001b[0m\u001b[0;34m\u001b[0m\u001b[0m\n\u001b[1;32m   1562\u001b[0m         \u001b[0;32melse\u001b[0m\u001b[0;34m:\u001b[0m\u001b[0;34m\u001b[0m\u001b[0;34m\u001b[0m\u001b[0m\n\u001b[0;32m-> 1563\u001b[0;31m             \u001b[0;32mraise\u001b[0m \u001b[0mKeyError\u001b[0m\u001b[0;34m(\u001b[0m\u001b[0mkey\u001b[0m\u001b[0;34m)\u001b[0m\u001b[0;34m\u001b[0m\u001b[0;34m\u001b[0m\u001b[0m\n\u001b[0m\u001b[1;32m   1564\u001b[0m \u001b[0;34m\u001b[0m\u001b[0m\n\u001b[1;32m   1565\u001b[0m         \u001b[0;31m# Check for duplicates\u001b[0m\u001b[0;34m\u001b[0m\u001b[0;34m\u001b[0m\u001b[0;34m\u001b[0m\u001b[0m\n",
            "\u001b[0;31mKeyError\u001b[0m: '2021/Mar'"
          ]
        }
      ]
    },
    {
      "cell_type": "markdown",
      "metadata": {
        "id": "ZDZJdrtsiZVO"
      },
      "source": [
        "### Módulo 01 Entendendo gráficos"
      ]
    },
    {
      "cell_type": "code",
      "metadata": {
        "id": "nNIfdicq_LYT"
      },
      "source": [
        "#dados[\"2008/Ago\", \"2008/Set\"]\n",
        "# se você tentar rodar esse código não vai funcionar, porque funciona como um dicionário, \n",
        "# ele procura uma coluna que possui esse valor \"2008/Ago\", \"2008/Set\" e como não existe dá um KeyError\n",
        "# como nós queremos duas colunas precisamos criar uma lista com dois elementos"
      ],
      "execution_count": null,
      "outputs": []
    },
    {
      "cell_type": "code",
      "metadata": {
        "id": "DDZT90T6Ev25"
      },
      "source": [
        "dados[[\"2008/Ago\", \"2008/Set\"]].head()"
      ],
      "execution_count": null,
      "outputs": []
    },
    {
      "cell_type": "markdown",
      "metadata": {
        "id": "FNrOGP51FYbC"
      },
      "source": [
        "Agora nós queremos comparar dois meses por estado ou algo do gênero. Mas, para isso, precisamos pegar um mês que todos os estados possuem valores. A forma abaixo é uma de fazer isso.\n",
        "\n",
        "obs: uma outra forma de tratar esses valores vazios é dropar esses valores, preencher eles com algum outro valor etc"
      ]
    },
    {
      "cell_type": "code",
      "metadata": {
        "id": "N6UYyaChFFoq"
      },
      "source": [
        "dados.mean()\n",
        "# traz somente a média de um mês que tem todos os estados com um valor, por isso, não mostra valores de 1992"
      ],
      "execution_count": null,
      "outputs": []
    },
    {
      "cell_type": "markdown",
      "metadata": {
        "id": "fMSLLQRUF4qb"
      },
      "source": [
        "No caso das informações acima, estamos interessados apenas nos valores da esquerda (também chamados de Index) para fazermos nossa análise. Dessa forma, podemos selecionar os valores dos index da seguinte forma)"
      ]
    },
    {
      "cell_type": "code",
      "metadata": {
        "id": "oDhS5D2wFzua"
      },
      "source": [
        "#colunas_usaveis = dados.mean().index\n",
        "# feito essa seleção das colunas nós ainda queremos inserir uma coluna no início dos dados que mostra as unidades da federação. Para isso podemos fazer o seguinte:\n",
        "\n",
        "#colunas_usaveis.insert(0, \"Unidade da Federação\")\n",
        "# se tentarmos inserir dessa forma não irá funcionar, porque o resultado do .index é uma série não mutável (não é uma lista). Para funcionar, precisamos transformar em uma lista\n",
        "\n",
        "colunas_usaveis = dados.mean().index.to_list()\n",
        "colunas_usaveis.insert(0, \"Unidade da Federação\")"
      ],
      "execution_count": null,
      "outputs": []
    },
    {
      "cell_type": "markdown",
      "metadata": {
        "id": "hfxxe6rgGSAe"
      },
      "source": [
        "Agora vamos fazer um slice na nossa tabela só dos meses que temos todos os dados de estados com valores preenchidos"
      ]
    },
    {
      "cell_type": "code",
      "metadata": {
        "id": "rsqE6PblGO8t"
      },
      "source": [
        "usaveis = dados[colunas_usaveis]\n",
        "usaveis.head()"
      ],
      "execution_count": null,
      "outputs": []
    },
    {
      "cell_type": "markdown",
      "metadata": {
        "id": "xpnTueyfJgAI"
      },
      "source": [
        "Aqui percebemos que o nosso index está como 0, 1, 2, 3 ... mas na verdade isso não é útil nem prático, porque o nosso index é a Unidade da Federação. Para isso, podemos setar como index esses valores"
      ]
    },
    {
      "cell_type": "code",
      "metadata": {
        "id": "4vcGgOPNGY_R"
      },
      "source": [
        "usaveis = usaveis.set_index(\"Unidade da Federação\")\n",
        "usaveis.head()"
      ],
      "execution_count": null,
      "outputs": []
    },
    {
      "cell_type": "code",
      "metadata": {
        "id": "xhEKZsjTJJnQ"
      },
      "source": [
        "usaveis[\"2009/Ago\"].head()\n",
        "# traz a coluna de 2009 ago"
      ],
      "execution_count": null,
      "outputs": []
    },
    {
      "cell_type": "code",
      "metadata": {
        "id": "vFk9OKLHKCHQ"
      },
      "source": [
        "usaveis.loc[\"12 Acre\"]\n",
        "# essa função Loc localiza a linha cujo indice é 12 Acre"
      ],
      "execution_count": null,
      "outputs": []
    },
    {
      "cell_type": "code",
      "metadata": {
        "id": "JoLLm9BXKMvQ"
      },
      "source": [
        "#usaveis.head()\n",
        "# se observamos a nossa tabela nós podemos ver que as linhas são os estados e as colunas são as datas, nós podemos transpor essa tabela usando a função .T e plotar um gráfico\n",
        "\n",
        "usaveis.T.plot(figsize=(10, 6))"
      ],
      "execution_count": null,
      "outputs": []
    },
    {
      "cell_type": "markdown",
      "metadata": {
        "id": "dbilQ5y_LA0C"
      },
      "source": [
        "Esse gráfico está inelegível porque existe uma coluna no final do gráfico que é muito maior do que qualquer outra coluna. Usando a função .tail no nosso df podemos descobrir qual é esse valor"
      ]
    },
    {
      "cell_type": "code",
      "metadata": {
        "id": "DQmKqX--K_kS"
      },
      "source": [
        "usaveis.T.tail()"
      ],
      "execution_count": null,
      "outputs": []
    },
    {
      "cell_type": "markdown",
      "metadata": {
        "id": "VkBJOZdXLPcD"
      },
      "source": [
        "Esse valor que está lá é o valor do total. Para podermos criar um gráfico mais adequado precisamos remover esse total"
      ]
    },
    {
      "cell_type": "code",
      "metadata": {
        "id": "G134LvXxLM1-"
      },
      "source": [
        "usaveis = usaveis.drop(\"Total\", axis=1)\n",
        "# axis 0 é o eixo da Coluna e axis 1 é o eixo da linha, como Total está na linha colocamos 1\n",
        "\n",
        "usaveis.head()"
      ],
      "execution_count": null,
      "outputs": []
    },
    {
      "cell_type": "code",
      "metadata": {
        "id": "oL-CG-tjLlyC"
      },
      "source": [
        "usaveis.T.plot(figsize=(10, 6))"
      ],
      "execution_count": null,
      "outputs": []
    },
    {
      "cell_type": "markdown",
      "metadata": {
        "id": "eA_qyuW0L_xt"
      },
      "source": [
        "### Desafio 01: Reposicionar a legenda. Dentro? Fora? Onde?"
      ]
    },
    {
      "cell_type": "markdown",
      "metadata": {
        "id": "NkdMU1GfVXB9"
      },
      "source": [
        "Nesse gráfico, além do tamanho ruim e que a legenda está no meio dos valores, eu acho difícil de descobrir o segundo maior valor (é do Tocantins?, é do Distrito Federal?)\n",
        "\n",
        "Para melhorar a visualização do gráfico, além de ajustar o tamanho da figura e melhorar o posicionamento da legenda, eu pensei em ajustar a ordem das legendas para ser do maior para menor (tomando como base os últimos valores - Mar de 2021)"
      ]
    },
    {
      "cell_type": "code",
      "metadata": {
        "id": "tYbesmp0WipP"
      },
      "source": [
        "usaveis[\"2021/Mar\"].sort_values(ascending=False)"
      ],
      "execution_count": null,
      "outputs": []
    },
    {
      "cell_type": "code",
      "metadata": {
        "id": "k9P8aCPoU09j"
      },
      "source": [
        "legenda_maior_menor = usaveis[\"2021/Mar\"].sort_values(ascending=False).index.to_list()\n",
        "# para isso, eu selecionei a última coluna, ordenei do maior para o menor, peguei somente os índices, transformei em uma lista e chamei de legenda_maior_menor"
      ],
      "execution_count": null,
      "outputs": []
    },
    {
      "cell_type": "code",
      "metadata": {
        "id": "aQW6mAbvQT3d"
      },
      "source": [
        "ax2 = usaveis.T.plot(figsize=(12, 8))\n",
        "#tive que aumentar o tamanho da figura para ficar do tamanho da legenda de mais fácil visualização\n",
        "ax2.yaxis.set_major_formatter(ticker.StrMethodFormatter(\"{x:,.2f}\"))\n",
        "#função que já aprendemos previamente no Notebook e já utilizamos\n",
        "plt.legend(legenda_maior_menor, bbox_to_anchor=(1.05, 1), loc=2, borderaxespad=0.)\n",
        "#vi essa forma de ajustar o gráfico na documentação em Legend Guide do Matplotlib no link https://matplotlib.org/1.3.1/users/legend_guide.html e coloque o label como a lista que acabei de criar que ordena a legenda"
      ],
      "execution_count": null,
      "outputs": []
    },
    {
      "cell_type": "markdown",
      "metadata": {
        "id": "xacqcSLjMKK0"
      },
      "source": [
        "### Desafio 02: Selecionar cinco estados para plotar apenas cinco estados"
      ]
    },
    {
      "cell_type": "code",
      "metadata": {
        "id": "hk9lJbklL4C8"
      },
      "source": [
        "ax3 = usaveis.loc[[\"13 Amazonas\", \"28 Sergipe\", \"51 Mato Grosso\", \"50 Mato Grosso do Sul\", \"52 Goiás\"]].T.plot(figsize=(12, 8))\n",
        "ax3.yaxis.set_major_formatter(ticker.StrMethodFormatter(\"{x:,.2f}\"))"
      ],
      "execution_count": null,
      "outputs": []
    },
    {
      "cell_type": "markdown",
      "metadata": {
        "id": "QmvKdPN2M79_"
      },
      "source": [
        "Quando for criar expressões muito grandes é importante prestar atenção na ordem, porque se colocar na ordem errada vai dar problema (ex: se eu colocasse o \".T\" antes do loc, ele ia procurar uma linha que possui \"13 Amazonas\" mas na verdade o \"13 amazonas\" já estava na coluna.\n",
        "\n",
        "Outra questão que altera a ordem são os tipos dos dados também (olhar tabela abaixo) o plot é um método a ser aplicado para um dataframe, se você tentar aplicar para um index não vai dar certo\n",
        "\n",
        "Caso no gráfico acima quiséssemos aplicar o método .sort_values() poderíamos seguir a ordem df.sort_values().plot() -> precisamos seguir essa ordem porque o .sort_values() é um método para ser aplicado em um DataFrame e retorna um outro Data Frame. O plot deve ser aplicado em um Data Frame mas retorna um gráfico. Dessa forma, não é possível aplicar o .sort_values() em um gráfico, por isso seguimos essa ordem anterior"
      ]
    },
    {
      "cell_type": "code",
      "metadata": {
        "id": "9VBLhcxuMpX_"
      },
      "source": [
        "#type(usaveis)\n",
        "# retorna: pandas.core.frame.DataFrame -> é um dataframe\n",
        "\n",
        "#type(usaveis.loc[[\"13 Amazonas\", \"28 Sergipe\", \"51 Mato Grosso\", \"50 Mato Grosso do Sul\", \"52 Goiás\"]])\n",
        "# retorna: pandas.core.frame.DataFrame -> continua sendo um um dataframe\n",
        "\n",
        "#type(usaveis.loc[[\"13 Amazonas\", \"28 Sergipe\", \"51 Mato Grosso\", \"50 Mato Grosso do Sul\", \"52 Goiás\"]].T)\n",
        "# retorna: pandas.core.frame.DataFrame -> continua sendo um um dataframe\n",
        "\n",
        "#type(usaveis.index)\n",
        "# retorna: pandas.core.indexes.base.Index -> é uma series\n",
        "\n",
        "#type(usaveis.plot)\n",
        "# retorna: pandas.plotting._core.PlotAccessor"
      ],
      "execution_count": null,
      "outputs": []
    },
    {
      "cell_type": "markdown",
      "metadata": {
        "id": "xIakxYT0G_Nc"
      },
      "source": [
        "## Aula 03.Manipulação de dados"
      ]
    },
    {
      "cell_type": "code",
      "metadata": {
        "id": "bYTukDFdNZKF"
      },
      "source": [
        "usaveis.T.plot(figsize=(10, 6))"
      ],
      "execution_count": null,
      "outputs": []
    },
    {
      "cell_type": "markdown",
      "metadata": {
        "id": "TIfxPPWGH60B"
      },
      "source": [
        "Gerando novamente esse gráfico, podemos perceber que a legibilidade desse gráfico é muito ruim, não tem como analisar algumas informações\n",
        "ex: a cor do Ceará e a cor de São Paulo são as mesmas."
      ]
    },
    {
      "cell_type": "markdown",
      "metadata": {
        "id": "KUdsjDdiIRlP"
      },
      "source": [
        "### Desafio 01: Escolher uma pelete de cores com o Matplotlib \n",
        "(provavelmente precise de 27 cores)"
      ]
    },
    {
      "cell_type": "code",
      "metadata": {
        "id": "4Z9O9BvIiZF0"
      },
      "source": [
        "sns.set_palette(sns.color_palette(\"gist_rainbow\", 27))\n",
        "\n",
        "usaveis.T.plot(figsize=(10, 6))"
      ],
      "execution_count": null,
      "outputs": []
    },
    {
      "cell_type": "markdown",
      "metadata": {
        "id": "ThdClpLeI1oX"
      },
      "source": [
        "### Modulo 01 Aleatoriedade e mais explorações"
      ]
    },
    {
      "cell_type": "markdown",
      "metadata": {
        "id": "nViDxwqgIlML"
      },
      "source": [
        "Outro problema do código é que não dá para entender nada das linhas mais próximas ao eixo X, porque estão todas umas coladas nas outras. Provavelmente, plotar 27 linhas não é a forma mais adequada de transmitir a informação que queremos passar."
      ]
    },
    {
      "cell_type": "markdown",
      "metadata": {
        "id": "Z8HtTIQTI-8t"
      },
      "source": [
        "Ao invés de plotar 27 estados, nós podemos escolher cinco estados. Podemos escolher cinco aleatórios, podemos escolher os cinco que mais gastaram e várias outras formas. Vamos selecionar os cinco primeiros dados (coincidentemente são os 5 estados da região Norte)"
      ]
    },
    {
      "cell_type": "code",
      "metadata": {
        "id": "8Y6MUvmhH5Rg"
      },
      "source": [
        "usaveis.T.columns[:5]\n",
        "# retorna uma Array do Numpy que tem diversas opções de slices, como o slice que fizemos acima selecionando os 5 primeiros estados"
      ],
      "execution_count": null,
      "outputs": []
    },
    {
      "cell_type": "markdown",
      "metadata": {
        "id": "-VArl7D0KIJX"
      },
      "source": [
        "Podemos fazer o slice na planilha que contem as linhas e plotar o gráfico"
      ]
    },
    {
      "cell_type": "code",
      "metadata": {
        "id": "qSpal2_rJemA"
      },
      "source": [
        "usaveis[:5].T.plot(figsize=(10, 6))"
      ],
      "execution_count": null,
      "outputs": []
    },
    {
      "cell_type": "markdown",
      "metadata": {
        "id": "BVbwBKXQMks4"
      },
      "source": [
        "Podemos também escolher 7 estados aleatórios"
      ]
    },
    {
      "cell_type": "code",
      "metadata": {
        "id": "edSSJG12KU-O"
      },
      "source": [
        "usaveis.sample(n=7)"
      ],
      "execution_count": null,
      "outputs": []
    },
    {
      "cell_type": "markdown",
      "metadata": {
        "id": "AH1SWcx2LcWj"
      },
      "source": [
        "sample() é um método para ALEATORIEDADE. Você seleciona quantos números você quer com o parâmetro n e o método gera uma amostra aleatória. Ele gera números aleatórios a partir de cada seed que você coloca. Como toda vez que você gera um sample ele usa um seed diferente o resultado sempre é diferente.\n",
        "\n",
        "Caso você queira gerar um valor aleatório previsível, você precisa setar o seed, que é a semente da aleatoriedade"
      ]
    },
    {
      "cell_type": "code",
      "metadata": {
        "id": "P3gWOq-3LatV"
      },
      "source": [
        "#import numpy as np\n",
        "\n",
        "np.random.seed(687942)\n",
        "\n",
        "usaveis.sample(n=7)\n",
        "#sempre que você rodar esse código ele sempre vai gerar um resultado igual"
      ],
      "execution_count": null,
      "outputs": []
    },
    {
      "cell_type": "markdown",
      "metadata": {
        "id": "eiO1XEF6NSan"
      },
      "source": [
        "### Desafio 02: Adicionar uma coluna mostrando a região de cada estado"
      ]
    },
    {
      "cell_type": "code",
      "metadata": {
        "id": "FmnEUy0gi9NN"
      },
      "source": [
        "index_list = usaveis.index.to_list()\n",
        "\n",
        "regiao = []\n",
        "for estado in index_list:\n",
        "  if estado[0] == \"1\":\n",
        "    regiao.append(\"Norte\")\n",
        "  elif estado[0] == \"2\":\n",
        "    regiao.append(\"Nordeste\")\n",
        "  elif estado[0] == \"3\":\n",
        "    regiao.append(\"Sudeste\")\n",
        "  elif estado[0] == \"4\":\n",
        "    regiao.append(\"Sul\")\n",
        "  elif estado[0] == \"5\":\n",
        "    regiao.append(\"Centro-Oeste\")"
      ],
      "execution_count": null,
      "outputs": []
    },
    {
      "cell_type": "markdown",
      "metadata": {
        "id": "aRxcoHIioHXA"
      },
      "source": [
        "Criei uma lista com o index do Data Frame. Se observamos o index, podemos ver que os estados da região Norte sempre começam com o número 1 e os estados da região Nordeste com o número 2 e por aí vai.\n",
        "\n",
        "Dessa forma eu iterei sobre essa lista e criei uma nova que dependendo do primeiro elemento ele cria a string da região adequada"
      ]
    },
    {
      "cell_type": "code",
      "metadata": {
        "id": "7DLVXrN-n-5k"
      },
      "source": [
        "usaveis[\"Regiao\"] = regiao\n",
        "usaveis.head()"
      ],
      "execution_count": null,
      "outputs": []
    },
    {
      "cell_type": "markdown",
      "metadata": {
        "id": "u9rrWmRPobie"
      },
      "source": [
        "Depois de criar a lista basta criar a nova coluna dessa forma"
      ]
    },
    {
      "cell_type": "markdown",
      "metadata": {
        "id": "sPF7O4IJOe10"
      },
      "source": [
        "### Dica para como adicionar uma coluna ao DataFrame:"
      ]
    },
    {
      "cell_type": "code",
      "metadata": {
        "id": "lZQE1QqAMNA0"
      },
      "source": [
        "# usaveis.sum(axis=1)\n",
        "# isso é uma série que foi criada que calcula a soma de todos os valores de cada uma das linhas"
      ],
      "execution_count": null,
      "outputs": []
    },
    {
      "cell_type": "markdown",
      "metadata": {
        "id": "j2BlTtjeN-E0"
      },
      "source": [
        "Agora para adicionar uma nova coluna no nosso DataFrame nós podemos fazer isso ou por meio de uma série ou por meio de uma lista. Uma forma de criarmos uma nova coluna é assim:"
      ]
    },
    {
      "cell_type": "code",
      "metadata": {
        "id": "tfhaYvYLOJyP"
      },
      "source": [
        "usaveis[\"Total\"] = usaveis.sum(axis=1)\n",
        "usaveis.head()\n",
        "\n",
        "#se a série tivesse menos que 27 valores (quantidade de linhas do Data Fram) não iria funcionar"
      ],
      "execution_count": null,
      "outputs": []
    },
    {
      "cell_type": "markdown",
      "metadata": {
        "id": "LSQkrPPXOmu2"
      },
      "source": [
        "### Modulo 02 Ordenação e Série Temporal"
      ]
    },
    {
      "cell_type": "markdown",
      "metadata": {
        "id": "58sSifQsO4X6"
      },
      "source": [
        "Agora nós queremos selecionar os cinco estados que mais gastam. Para isso, vamos usar a coluna total que criamos agora. Nós precisamos ordenar agora uma lista de elementos, para isso, usamos o método sort (ordenar em ingles)"
      ]
    },
    {
      "cell_type": "code",
      "metadata": {
        "id": "W1s5LLNjOUFg"
      },
      "source": [
        "ordenado_por_total = usaveis.sort_values(by=\"Total\", ascending=False)\n",
        "#sort values é ordenar por um valor de coluna e sort index é ordenar por um valor de linha\n",
        "\n",
        "ordenado_por_total = ordenado_por_total.drop([\"Total\", \"Regiao\"], axis=1)\n",
        "#removendo a coluna do total falando que é uma coluna pelo parâmetro axis=1\n",
        "\n",
        "ordenado_por_total.head()"
      ],
      "execution_count": null,
      "outputs": []
    },
    {
      "cell_type": "code",
      "metadata": {
        "id": "G9ncW7gLPUoZ"
      },
      "source": [
        "ordenado_por_total[:5].T.plot(figsize=(10, 6))"
      ],
      "execution_count": null,
      "outputs": []
    },
    {
      "cell_type": "markdown",
      "metadata": {
        "id": "rEdW6bTpQOSV"
      },
      "source": [
        "### Desafio 03: Deixar o gráfico mais bonito, a mensagem mais clara (título, legenda, escala)"
      ]
    },
    {
      "cell_type": "code",
      "metadata": {
        "id": "og8CgM7eohcN"
      },
      "source": [
        "ax = ordenado_por_total[:5].T.plot(figsize=(12, 8))\n",
        "\n",
        "ax.yaxis.set_major_formatter(ticker.StrMethodFormatter(\"{x:,.2f}\"))\n",
        "\n",
        "plt.title(\"5 maiores gastos em produção hospitalar por UF\")\n",
        "\n",
        "plt.show()\n",
        "\n",
        "#as cores estão condizentes, é um gradiente do maior (cor mais intensa) para o menor (cor mais suave)"
      ],
      "execution_count": null,
      "outputs": []
    },
    {
      "cell_type": "markdown",
      "metadata": {
        "id": "FFox2-AYQVCl"
      },
      "source": [
        "### Desafio 04: Adicione o seu estado aos 5 estados existentes e plote"
      ]
    },
    {
      "cell_type": "code",
      "metadata": {
        "id": "FVXr3Afsqt2Y"
      },
      "source": [
        "estados_e_mt = ordenado_por_total[:5].index.to_list()\n",
        "estados_e_mt.append(\"51 Mato Grosso\")\n",
        "\n",
        "estados_e_mt"
      ],
      "execution_count": null,
      "outputs": []
    },
    {
      "cell_type": "markdown",
      "metadata": {
        "id": "JevYgFfIxGB-"
      },
      "source": [
        "Criei uma nova lista usando como base o DF ordenado_por_total selecionando os cinco primeiros elementos e depois usei o método append de listas para adicionar o Mato Grosso"
      ]
    },
    {
      "cell_type": "code",
      "metadata": {
        "id": "2R-5g5i0sa4O"
      },
      "source": [
        "ax = ordenado_por_total.loc[estados_e_mt].T.plot(figsize=(12, 8))\n",
        "\n",
        "ax.yaxis.set_major_formatter(ticker.StrMethodFormatter(\"{x:,.2f}\"))\n",
        "\n",
        "plt.title(\"5 maiores gastos em produção hospitalar por UF\")\n",
        "\n",
        "plt.show()\n",
        "\n",
        "#as cores estão condizentes, é um gradiente do maior (cor mais intensa) para o menor (cor mais suave)"
      ],
      "execution_count": null,
      "outputs": []
    },
    {
      "cell_type": "markdown",
      "metadata": {
        "id": "C7dpuDJzxV96"
      },
      "source": [
        "Para exibir os dados que foram selecionados na lista estados_e_mt, eu usei o método Loc"
      ]
    },
    {
      "cell_type": "markdown",
      "metadata": {
        "id": "H8GqF6hbQ2u2"
      },
      "source": [
        "### Continuando Módulo 02 - Removendo colunas"
      ]
    },
    {
      "cell_type": "markdown",
      "metadata": {
        "id": "QbpXgzAJQ74N"
      },
      "source": [
        "Na base de dados do curso existia um valor muito discrepante que atrapalhava a análise inteira dos dados.\n",
        "Foi necessário analisar a base olhando os valores para encontrar um valor que seria muito maior do que os outros (ex: valor de 76 milhões com um valor de 1 bilhão que depois volta para 172 milhões)\n",
        "\n",
        "![image.png](data:image/png;base64,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)"
      ]
    },
    {
      "cell_type": "markdown",
      "metadata": {
        "id": "MRfWcUqyRmJQ"
      },
      "source": [
        "Depois que selecionamos o mês com o valor discrepante precisamos pesquisar para ver se aquele dado faz sentido (se naquele mês teve uma alta de gastos de 10x comparado com os meses anteriores e posteriores). Porém, no caso do exemplo, provavelmente, a base de dados se inicia em 2008 e os dados anteriores foram acumulados para janeiro de 2008."
      ]
    },
    {
      "cell_type": "markdown",
      "metadata": {
        "id": "66c71ubhSRh5"
      },
      "source": [
        "No caso do exercício, nós poderíamos tratar esse dado discrepante de várias formas: fazer uma interpolação entre os valores do mês anterior e do mês posterior ou podemos apenas cortar o valor da nossa base de dados"
      ]
    },
    {
      "cell_type": "markdown",
      "metadata": {
        "id": "7YGy5jDWSgX8"
      },
      "source": [
        "No exercício do curso, os dados se iniciavam em 2007 e os instrutores optaram por selecionar da 6ªcoluna da base de dados para a frente. \n",
        "\n",
        "Para simular as operações realizadas vou fazer o mesmo trabalho eliminando a coluna de 2008/Jan (dado que os dados na data que importei não tinham esse problema, visto que, provavelmente, o fornecedor dos dados ajustou esse problema detectado)"
      ]
    },
    {
      "cell_type": "code",
      "metadata": {
        "id": "WbKBIrMPP-OG"
      },
      "source": [
        "colunas_interessadas = ordenado_por_total.columns[1:]\n",
        "ordenado_por_total = ordenado_por_total[colunas_interessadas]"
      ],
      "execution_count": null,
      "outputs": []
    },
    {
      "cell_type": "code",
      "metadata": {
        "id": "ND1Ck-8RTHvS"
      },
      "source": [
        "ordenado_por_total[:5].T.plot(figsize=(10, 6))"
      ],
      "execution_count": null,
      "outputs": []
    },
    {
      "cell_type": "markdown",
      "metadata": {
        "id": "c-MeizPLUcR1"
      },
      "source": [
        "Observando nesse gráfico podemos verificar uma certa sazonalidade, onde sempre cresce, desce e depois cresce, desce. Isso é uma certa sazonalidade\n",
        "\n",
        "Além de sazonalidade nós temos uma tendência, que é uma tendência crescente.\n",
        "\n",
        "Outra análise é que em 2020 teve um crescimento nos gastos hospitalares, muito provavelmente relacionado à crise de Covid-19 que teve seu pico no segundo trimestre de 2020"
      ]
    },
    {
      "cell_type": "markdown",
      "metadata": {
        "id": "oPizNfRXUx8v"
      },
      "source": [
        "### Desafio 05: Plotar só os estados do sudeste e ver se afetou com um pico em 2020 de forma similar esses estados"
      ]
    },
    {
      "cell_type": "code",
      "metadata": {
        "id": "tSDrZxJ0su4Y"
      },
      "source": [
        "#estou usando a tabela usaveis porque já tem uma coluna das regiões\n",
        "sudeste = usaveis[usaveis[\"Regiao\"] == \"Sudeste\"]\n",
        "sudeste.drop([\"Regiao\", \"Total\"], axis = 1).T.plot(figsize=(10, 6))"
      ],
      "execution_count": null,
      "outputs": []
    },
    {
      "cell_type": "markdown",
      "metadata": {
        "id": "INXH0MUKv5iH"
      },
      "source": [
        "Eu criei um novo DataFrame que selecionou do DF usaveis apenas as linhas em que a coluna Região é igual a Sudeste e salvei esse novo DF como sudeste\n",
        "\n",
        "Depois, para poder plotar esse DF sudeste, eu precisaria me livrar das colunas não numéricas e também da coluna de Total para não poluir o gráfico, para isso usei o método drop e plotei o gráfico normal"
      ]
    },
    {
      "cell_type": "markdown",
      "metadata": {
        "id": "Y93HUMY1VBp8"
      },
      "source": [
        "### Desafio 06: Adicionar seu estado escolhido novamente e deixe o gráfico informativo com suas informações claras"
      ]
    },
    {
      "cell_type": "code",
      "metadata": {
        "id": "-AYAMXuNT77C"
      },
      "source": [
        "sudeste_mais_mt = sudeste.index.to_list()\n",
        "sudeste_mais_mt.append(\"51 Mato Grosso\")"
      ],
      "execution_count": null,
      "outputs": []
    },
    {
      "cell_type": "markdown",
      "metadata": {
        "id": "8SnOU9SuwVw8"
      },
      "source": [
        "Criei uma nova lista usando como base o DF sudeste que já tinha filtrado apenas os estados do sudeste e adicionei o Mato Grosso"
      ]
    },
    {
      "cell_type": "code",
      "metadata": {
        "id": "Kl6eW2iAu7_A"
      },
      "source": [
        "ax = usaveis.loc[sudeste_mais_mt].drop([\"Regiao\", \"Total\"], axis = 1).sort_values(by=\"2021/Mar\", ascending=False).T.plot(figsize=(10, 6))"
      ],
      "execution_count": null,
      "outputs": []
    },
    {
      "cell_type": "markdown",
      "metadata": {
        "id": "86sFYvPCwdq1"
      },
      "source": [
        "Para plotar os dados da lista sudeste_mais_mt no DF usaveis (precisaria ser esse DF pq o DF sudeste não tem o mato grosso) eu usei o método Loc. Porém, similar ao problema anterior, tive que dropar a coluna Região e Total\n",
        "\n",
        "Para facilitar a leitura da legenda como temos três linhas muito claras em que uma é maior que a outra, poderíamos ordenar a legenda do maior para o menor tomando como base o valor de 2021/Mar. Para isso, eu usei o método sort values"
      ]
    },
    {
      "cell_type": "markdown",
      "metadata": {
        "id": "MzmfwNs0Td7m"
      },
      "source": [
        "## Aula 04.Análise de gráficos e criação de hipóteses"
      ]
    },
    {
      "cell_type": "markdown",
      "metadata": {
        "id": "ngSE7LrOToVf"
      },
      "source": [
        "### Modulo 01 Fugindo de más práticas"
      ]
    },
    {
      "cell_type": "code",
      "metadata": {
        "id": "2Cl3ZiIpTkam"
      },
      "source": [
        "ordenado_por_total[:5].T.plot(figsize=(10, 6))"
      ],
      "execution_count": null,
      "outputs": []
    },
    {
      "cell_type": "markdown",
      "metadata": {
        "id": "pXnQaTOPU6t6"
      },
      "source": [
        "Observando o gráfico queremos pegar os dados e deixar os dados da direita em milhões, porque hoje está em dezenas de milhões. Para isso, podemos fazer o seguinte:"
      ]
    },
    {
      "cell_type": "code",
      "metadata": {
        "id": "yi6GRj0yU45i"
      },
      "source": [
        "ordenado_por_total = (ordenado_por_total/1000000)\n",
        "ordenado_por_total[:5].T.plot(figsize=(10, 6))"
      ],
      "execution_count": null,
      "outputs": []
    },
    {
      "cell_type": "markdown",
      "metadata": {
        "id": "5lJ9D1mKVayS"
      },
      "source": [
        "Agora nós queremos selecionar os dados apenas dos três primeiros estados em Jan 2012 até 2019. Nós podemos fazer um slice das colunas indicando esse período desejado"
      ]
    },
    {
      "cell_type": "code",
      "metadata": {
        "id": "bsJRQeT0VQ4S"
      },
      "source": [
        "ordenado_por_total[ordenado_por_total.columns[46:140]][:3].T.plot(figsize=(10, 6))"
      ],
      "execution_count": null,
      "outputs": []
    },
    {
      "cell_type": "markdown",
      "metadata": {
        "id": "Djyjmx8zWlrY"
      },
      "source": [
        "Esse gráfico, parece que os gastos de São Paulo são muito maiores do que os gastos do Paraná. Porém, eles não são tão maiores. Essa ilusão ocorre porque o eixo não se inicia no valor 0. Observe o gráfico de cima comparado com o gráfico de baixo, que é exatamente o mesmo porém sem essa distorção. O valor de Paraná não parece mais tão menor do que o valor de São Paulo.\n",
        "\n",
        "No primeiro gráfico parece que SP é 4x maior que PR, porque mostra quatro \"ticks\" do eixo, porém, olhando no gráfico de baixo, vemos que SP é apenas 2x (aproximadamente) maior que o PR."
      ]
    },
    {
      "cell_type": "code",
      "metadata": {
        "id": "inWRD2lAVfil"
      },
      "source": [
        "ordenado_por_total[ordenado_por_total.columns[46:140]][:3].T.plot(figsize=(10, 6))\n",
        "plt.ylim(0, 350)\n",
        "# essa função do plt determina o limite para o eixo Y, que deve começar no valor 0 e terminar no valor 350"
      ],
      "execution_count": null,
      "outputs": []
    },
    {
      "cell_type": "markdown",
      "metadata": {
        "id": "b8o2z9wQY0V2"
      },
      "source": [
        "Outro ponto de atenção é observar o eixo X, onde, em 12 meses, pode apresentar uma tendência de queda, mas, quando analisado os últimos 36 meses, obervamos uma tendência de alta (com uma pequena queda nos últimos 12 meses). Essa outra distorção ocorre também quando mudamos o tamanho da figura, como trocar de tamanho (10,6) para um tamanho quadrado (6,6)"
      ]
    },
    {
      "cell_type": "markdown",
      "metadata": {
        "id": "9lcGsS-sbOsQ"
      },
      "source": [
        "## Aula 05.Manipulação e interpretação de gráficos"
      ]
    },
    {
      "cell_type": "markdown",
      "metadata": {
        "id": "yoPqULJLbUvc"
      },
      "source": [
        "### Modulo 01 Alternativas de visualização"
      ]
    },
    {
      "cell_type": "markdown",
      "metadata": {
        "id": "HVRFx32XluOP"
      },
      "source": [
        "Queremos selecionar agora os dados do último mês.\n",
        "\n"
      ]
    },
    {
      "cell_type": "code",
      "metadata": {
        "id": "uFg4lAjFXdq7"
      },
      "source": [
        "mes_mais_recente = ordenado_por_total.columns[-1]"
      ],
      "execution_count": null,
      "outputs": []
    },
    {
      "cell_type": "code",
      "metadata": {
        "id": "eREY24Ofmwc_"
      },
      "source": [
        "gastos_do_mais_recente = ordenado_por_total[mes_mais_recente]\n",
        "gastos_do_mais_recente"
      ],
      "execution_count": null,
      "outputs": []
    },
    {
      "cell_type": "markdown",
      "metadata": {
        "id": "a2KD2BQvnPAw"
      },
      "source": [
        "### Existe um ditado: se um gráfico tem nome de comida, ele não deve ser utilizado.\n",
        "-  O primeiro problema é que a legenda está inelegível\n",
        "-  número de fatias muito grande\n",
        "-  Não tem como saber se Rio Grande do SUl é maior que Paraná porque não existe uma legenda dos dados\n",
        "-  Não dá para saber a ordem dos dados\n",
        "-  Tem cores repetidas\n",
        "-  Não dá para saber a proporção\n",
        "-  É péssima para comparar grandezas (SP gastou 2 ou 3x mais que Paraná) - precisariamos compara áreas e perímetros"
      ]
    },
    {
      "cell_type": "code",
      "metadata": {
        "id": "v89tMJa-m193"
      },
      "source": [
        "gastos_do_mais_recente.plot.pie()"
      ],
      "execution_count": null,
      "outputs": []
    },
    {
      "cell_type": "code",
      "metadata": {
        "id": "2JmXfTr7nJ08"
      },
      "source": [
        "#visualização mais simples para valores absolutos -> TABELA\n",
        "\n",
        "gastos_do_mais_recente"
      ],
      "execution_count": null,
      "outputs": []
    },
    {
      "cell_type": "markdown",
      "metadata": {
        "id": "iw9UPT5opOX9"
      },
      "source": [
        "Caso queiramos saber quantas vezes cada estado gastou quando comparado com Rio de Janeiro, poderíamos fazer a sintaxe"
      ]
    },
    {
      "cell_type": "code",
      "metadata": {
        "id": "WikgcQmPpIH1"
      },
      "source": [
        "gastos_do_mais_recente / gastos_do_mais_recente.loc[\"33 Rio de Janeiro\"]\n",
        "\n",
        "#dividindo um valor do estado pelo valor do Rio de Janeiro - ou seja, a linha do RJ vai dar 1.0"
      ],
      "execution_count": null,
      "outputs": []
    },
    {
      "cell_type": "markdown",
      "metadata": {
        "id": "jskGYfyipo5m"
      },
      "source": [
        "### Desafio 01 Criar a tabela de comparação com o seu estado"
      ]
    },
    {
      "cell_type": "markdown",
      "metadata": {
        "id": "DKEMSkDRp6Ie"
      },
      "source": [
        "### Modulo 01 Alternativas de visualização"
      ]
    },
    {
      "cell_type": "markdown",
      "metadata": {
        "id": "Tzga2GPzqA25"
      },
      "source": [
        "Conforme vimos anteriormente, a tabela criada é muito melhor que o gráfico de pizza para observar os valores. Porém, caso queiramos criar uma visualização gráfica para essa informação, podemos fazer um plot de barras"
      ]
    },
    {
      "cell_type": "code",
      "metadata": {
        "id": "IwrANgUSpasn"
      },
      "source": [
        "gastos_do_mais_recente.plot.bar()"
      ],
      "execution_count": null,
      "outputs": []
    },
    {
      "cell_type": "markdown",
      "metadata": {
        "id": "G1Kj1jlCqfVm"
      },
      "source": [
        "Esse gráfico não está ordenado porque na tabela nós ordenamos do maior para o menor o valor total, não o último mês. Dessa forma, podemos usar o sort_values()"
      ]
    },
    {
      "cell_type": "code",
      "metadata": {
        "id": "sfST5HCnqZjo"
      },
      "source": [
        "gastos_do_mais_recente.sort_values(ascending=False).plot.bar()"
      ],
      "execution_count": null,
      "outputs": []
    },
    {
      "cell_type": "markdown",
      "metadata": {
        "id": "myDkX6P4rLef"
      },
      "source": [
        "### Desafio 02 Plotar o gráfico de barra do gasto dos outros estados em comparação com o seu estado"
      ]
    },
    {
      "cell_type": "markdown",
      "metadata": {
        "id": "9Augw8GfrbjQ"
      },
      "source": [
        "### Desafio 03 Fazer o gasto por população do estado, escolher dois estados e plotar gráfico de barras"
      ]
    },
    {
      "cell_type": "markdown",
      "metadata": {
        "id": "aQ8ntrkNrnEG"
      },
      "source": [
        "### Desafio 04 Explore e levante hipóteses com base nesses gráficos"
      ]
    },
    {
      "cell_type": "markdown",
      "metadata": {
        "id": "7YX4xkjvseFE"
      },
      "source": [
        "### Super desafio: Escolha outro valor fora Valor Aprovado no TABNET e explore"
      ]
    },
    {
      "cell_type": "markdown",
      "metadata": {
        "id": "c1F4-WnRHn9A"
      },
      "source": [
        "# Módulo 2 - Visualização de dados com Seaborn e Matplotlib"
      ]
    }
  ]
}