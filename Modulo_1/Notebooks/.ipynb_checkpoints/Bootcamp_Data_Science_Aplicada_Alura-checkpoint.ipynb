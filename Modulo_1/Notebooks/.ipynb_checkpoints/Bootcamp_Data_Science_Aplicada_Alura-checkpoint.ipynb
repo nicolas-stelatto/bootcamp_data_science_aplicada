{
  "nbformat": 4,
  "nbformat_minor": 0,
  "metadata": {
    "colab": {
      "name": "Bootcamp Data Science Aplicada - Alura.ipynb",
      "provenance": [],
      "authorship_tag": "ABX9TyNYYZtJjvQ4gECMFGGbC7x3",
      "include_colab_link": true
    },
    "kernelspec": {
      "name": "python3",
      "display_name": "Python 3"
    },
    "language_info": {
      "name": "python"
    }
  },
  "cells": [
    {
      "cell_type": "markdown",
      "metadata": {
        "id": "view-in-github",
        "colab_type": "text"
      },
      "source": [
        "<a href=\"https://colab.research.google.com/github/nicolas-stelatto/bootcamp_data_science_aplicada/blob/main/Bootcamp_Data_Science_Aplicada_Alura.ipynb\" target=\"_parent\"><img src=\"https://colab.research.google.com/assets/colab-badge.svg\" alt=\"Open In Colab\"/></a>"
      ]
    },
    {
      "cell_type": "code",
      "metadata": {
        "id": "YesMAQKz1m8F"
      },
      "source": [
        ""
      ],
      "execution_count": null,
      "outputs": []
    }
  ]
}